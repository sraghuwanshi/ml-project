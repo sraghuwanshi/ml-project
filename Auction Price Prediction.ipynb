{
  "cells": [
    {
      "metadata": {
        "_uuid": "8f2839f25d086af736a60e9eeb907d3b93b6e0e5",
        "_cell_guid": "b1076dfc-b9ad-4769-8c92-a6c4dae69d19",
        "trusted": true
      },
      "cell_type": "code",
      "source": "%load_ext autoreload\n%autoreload 2\n\n%matplotlib inline",
      "execution_count": 1,
      "outputs": []
    },
    {
      "metadata": {
        "_uuid": "313dfef435226756b693a176fe2c8cc0e561bc95"
      },
      "cell_type": "markdown",
      "source": "**Importing The Libraries**"
    },
    {
      "metadata": {
        "_cell_guid": "79c7e3d0-c299-4dcb-8224-4455121ee9b0",
        "_uuid": "d629ff2d2480ee46fbb7e2d37f6b5fab8052498a",
        "trusted": true
      },
      "cell_type": "code",
      "source": "from fastai.imports import *\nfrom fastai.structured import *\n\nfrom pandas_summary import DataFrameSummary\nfrom sklearn.ensemble import RandomForestRegressor\nfrom IPython.display import display\n\nfrom sklearn import metrics",
      "execution_count": 2,
      "outputs": []
    },
    {
      "metadata": {
        "_uuid": "adbd5aeaef252eb76f8829072e368fdfffda0689"
      },
      "cell_type": "markdown",
      "source": "**Reading the Dataset - 'Blue Books for Bulldozers' for auction prize prediction.**"
    },
    {
      "metadata": {
        "trusted": true,
        "_uuid": "a1374a1a15c863d02f08f234d09e33d703c71341"
      },
      "cell_type": "code",
      "source": "data_raw = pd.read_csv('../input/Train.csv',low_memory=False,parse_dates=['saledate'])",
      "execution_count": 3,
      "outputs": []
    },
    {
      "metadata": {
        "_uuid": "894ca03accf430ac182f9d89c598d6e51be9a6fb"
      },
      "cell_type": "markdown",
      "source": "**Viewing the First Few Entries**"
    },
    {
      "metadata": {
        "trusted": true,
        "_uuid": "b8dd430ddc11722d0e9f52862bd588026b60e5af"
      },
      "cell_type": "code",
      "source": "data_raw.head().transpose()",
      "execution_count": 4,
      "outputs": [
        {
          "output_type": "execute_result",
          "execution_count": 4,
          "data": {
            "text/plain": "                                                                 0                        ...                                                                          4\nSalesID                                                    1139246                        ...                                                                    1139253\nSalePrice                                                    66000                        ...                                                                      11000\nMachineID                                                   999089                        ...                                                                    1057373\nModelID                                                       3157                        ...                                                                      17311\ndatasource                                                     121                        ...                                                                        121\nauctioneerID                                                     3                        ...                                                                          3\nYearMade                                                      2004                        ...                                                                       2007\nMachineHoursCurrentMeter                                        68                        ...                                                                        722\nUsageBand                                                      Low                        ...                                                                     Medium\nsaledate                                       2006-11-16 00:00:00                        ...                                                        2009-07-23 00:00:00\nfiModelDesc                                                   521D                        ...                                                                       S175\nfiBaseModel                                                    521                        ...                                                                       S175\nfiSecondaryDesc                                                  D                        ...                                                                        NaN\nfiModelSeries                                                  NaN                        ...                                                                        NaN\nfiModelDescriptor                                              NaN                        ...                                                                        NaN\nProductSize                                                    NaN                        ...                                                                        NaN\nfiProductClassDesc        Wheel Loader - 110.0 to 120.0 Horsepower                        ...                          Skid Steer Loader - 1601.0 to 1751.0 Lb Operat...\nstate                                                      Alabama                        ...                                                                   New York\nProductGroup                                                    WL                        ...                                                                        SSL\nProductGroupDesc                                      Wheel Loader                        ...                                                         Skid Steer Loaders\nDrive_System                                                   NaN                        ...                                                                        NaN\nEnclosure                                               EROPS w AC                        ...                                                                      EROPS\nForks                                          None or Unspecified                        ...                                                        None or Unspecified\nPad_Type                                                       NaN                        ...                                                                        NaN\nRide_Control                                   None or Unspecified                        ...                                                                        NaN\nStick                                                          NaN                        ...                                                                        NaN\nTransmission                                                   NaN                        ...                                                                        NaN\nTurbocharged                                                   NaN                        ...                                                                        NaN\nBlade_Extension                                                NaN                        ...                                                                        NaN\nBlade_Width                                                    NaN                        ...                                                                        NaN\nEnclosure_Type                                                 NaN                        ...                                                                        NaN\nEngine_Horsepower                                              NaN                        ...                                                                        NaN\nHydraulics                                                 2 Valve                        ...                                                                  Auxiliary\nPushblock                                                      NaN                        ...                                                                        NaN\nRipper                                                         NaN                        ...                                                                        NaN\nScarifier                                                      NaN                        ...                                                                        NaN\nTip_Control                                                    NaN                        ...                                                                        NaN\nTire_Size                                      None or Unspecified                        ...                                                                        NaN\nCoupler                                        None or Unspecified                        ...                                                        None or Unspecified\nCoupler_System                                                 NaN                        ...                                                        None or Unspecified\nGrouser_Tracks                                                 NaN                        ...                                                        None or Unspecified\nHydraulics_Flow                                                NaN                        ...                                                                   Standard\nTrack_Type                                                     NaN                        ...                                                                        NaN\nUndercarriage_Pad_Width                                        NaN                        ...                                                                        NaN\nStick_Length                                                   NaN                        ...                                                                        NaN\nThumb                                                          NaN                        ...                                                                        NaN\nPattern_Changer                                                NaN                        ...                                                                        NaN\nGrouser_Type                                                   NaN                        ...                                                                        NaN\nBackhoe_Mounting                                               NaN                        ...                                                                        NaN\nBlade_Type                                                     NaN                        ...                                                                        NaN\nTravel_Controls                                                NaN                        ...                                                                        NaN\nDifferential_Type                                         Standard                        ...                                                                        NaN\nSteering_Controls                                     Conventional                        ...                                                                        NaN\n\n[53 rows x 5 columns]",
            "text/html": "<div>\n<style scoped>\n    .dataframe tbody tr th:only-of-type {\n        vertical-align: middle;\n    }\n\n    .dataframe tbody tr th {\n        vertical-align: top;\n    }\n\n    .dataframe thead th {\n        text-align: right;\n    }\n</style>\n<table border=\"1\" class=\"dataframe\">\n  <thead>\n    <tr style=\"text-align: right;\">\n      <th></th>\n      <th>0</th>\n      <th>1</th>\n      <th>2</th>\n      <th>3</th>\n      <th>4</th>\n    </tr>\n  </thead>\n  <tbody>\n    <tr>\n      <th>SalesID</th>\n      <td>1139246</td>\n      <td>1139248</td>\n      <td>1139249</td>\n      <td>1139251</td>\n      <td>1139253</td>\n    </tr>\n    <tr>\n      <th>SalePrice</th>\n      <td>66000</td>\n      <td>57000</td>\n      <td>10000</td>\n      <td>38500</td>\n      <td>11000</td>\n    </tr>\n    <tr>\n      <th>MachineID</th>\n      <td>999089</td>\n      <td>117657</td>\n      <td>434808</td>\n      <td>1026470</td>\n      <td>1057373</td>\n    </tr>\n    <tr>\n      <th>ModelID</th>\n      <td>3157</td>\n      <td>77</td>\n      <td>7009</td>\n      <td>332</td>\n      <td>17311</td>\n    </tr>\n    <tr>\n      <th>datasource</th>\n      <td>121</td>\n      <td>121</td>\n      <td>121</td>\n      <td>121</td>\n      <td>121</td>\n    </tr>\n    <tr>\n      <th>auctioneerID</th>\n      <td>3</td>\n      <td>3</td>\n      <td>3</td>\n      <td>3</td>\n      <td>3</td>\n    </tr>\n    <tr>\n      <th>YearMade</th>\n      <td>2004</td>\n      <td>1996</td>\n      <td>2001</td>\n      <td>2001</td>\n      <td>2007</td>\n    </tr>\n    <tr>\n      <th>MachineHoursCurrentMeter</th>\n      <td>68</td>\n      <td>4640</td>\n      <td>2838</td>\n      <td>3486</td>\n      <td>722</td>\n    </tr>\n    <tr>\n      <th>UsageBand</th>\n      <td>Low</td>\n      <td>Low</td>\n      <td>High</td>\n      <td>High</td>\n      <td>Medium</td>\n    </tr>\n    <tr>\n      <th>saledate</th>\n      <td>2006-11-16 00:00:00</td>\n      <td>2004-03-26 00:00:00</td>\n      <td>2004-02-26 00:00:00</td>\n      <td>2011-05-19 00:00:00</td>\n      <td>2009-07-23 00:00:00</td>\n    </tr>\n    <tr>\n      <th>fiModelDesc</th>\n      <td>521D</td>\n      <td>950FII</td>\n      <td>226</td>\n      <td>PC120-6E</td>\n      <td>S175</td>\n    </tr>\n    <tr>\n      <th>fiBaseModel</th>\n      <td>521</td>\n      <td>950</td>\n      <td>226</td>\n      <td>PC120</td>\n      <td>S175</td>\n    </tr>\n    <tr>\n      <th>fiSecondaryDesc</th>\n      <td>D</td>\n      <td>F</td>\n      <td>NaN</td>\n      <td>NaN</td>\n      <td>NaN</td>\n    </tr>\n    <tr>\n      <th>fiModelSeries</th>\n      <td>NaN</td>\n      <td>II</td>\n      <td>NaN</td>\n      <td>-6E</td>\n      <td>NaN</td>\n    </tr>\n    <tr>\n      <th>fiModelDescriptor</th>\n      <td>NaN</td>\n      <td>NaN</td>\n      <td>NaN</td>\n      <td>NaN</td>\n      <td>NaN</td>\n    </tr>\n    <tr>\n      <th>ProductSize</th>\n      <td>NaN</td>\n      <td>Medium</td>\n      <td>NaN</td>\n      <td>Small</td>\n      <td>NaN</td>\n    </tr>\n    <tr>\n      <th>fiProductClassDesc</th>\n      <td>Wheel Loader - 110.0 to 120.0 Horsepower</td>\n      <td>Wheel Loader - 150.0 to 175.0 Horsepower</td>\n      <td>Skid Steer Loader - 1351.0 to 1601.0 Lb Operat...</td>\n      <td>Hydraulic Excavator, Track - 12.0 to 14.0 Metr...</td>\n      <td>Skid Steer Loader - 1601.0 to 1751.0 Lb Operat...</td>\n    </tr>\n    <tr>\n      <th>state</th>\n      <td>Alabama</td>\n      <td>North Carolina</td>\n      <td>New York</td>\n      <td>Texas</td>\n      <td>New York</td>\n    </tr>\n    <tr>\n      <th>ProductGroup</th>\n      <td>WL</td>\n      <td>WL</td>\n      <td>SSL</td>\n      <td>TEX</td>\n      <td>SSL</td>\n    </tr>\n    <tr>\n      <th>ProductGroupDesc</th>\n      <td>Wheel Loader</td>\n      <td>Wheel Loader</td>\n      <td>Skid Steer Loaders</td>\n      <td>Track Excavators</td>\n      <td>Skid Steer Loaders</td>\n    </tr>\n    <tr>\n      <th>Drive_System</th>\n      <td>NaN</td>\n      <td>NaN</td>\n      <td>NaN</td>\n      <td>NaN</td>\n      <td>NaN</td>\n    </tr>\n    <tr>\n      <th>Enclosure</th>\n      <td>EROPS w AC</td>\n      <td>EROPS w AC</td>\n      <td>OROPS</td>\n      <td>EROPS w AC</td>\n      <td>EROPS</td>\n    </tr>\n    <tr>\n      <th>Forks</th>\n      <td>None or Unspecified</td>\n      <td>None or Unspecified</td>\n      <td>None or Unspecified</td>\n      <td>NaN</td>\n      <td>None or Unspecified</td>\n    </tr>\n    <tr>\n      <th>Pad_Type</th>\n      <td>NaN</td>\n      <td>NaN</td>\n      <td>NaN</td>\n      <td>NaN</td>\n      <td>NaN</td>\n    </tr>\n    <tr>\n      <th>Ride_Control</th>\n      <td>None or Unspecified</td>\n      <td>None or Unspecified</td>\n      <td>NaN</td>\n      <td>NaN</td>\n      <td>NaN</td>\n    </tr>\n    <tr>\n      <th>Stick</th>\n      <td>NaN</td>\n      <td>NaN</td>\n      <td>NaN</td>\n      <td>NaN</td>\n      <td>NaN</td>\n    </tr>\n    <tr>\n      <th>Transmission</th>\n      <td>NaN</td>\n      <td>NaN</td>\n      <td>NaN</td>\n      <td>NaN</td>\n      <td>NaN</td>\n    </tr>\n    <tr>\n      <th>Turbocharged</th>\n      <td>NaN</td>\n      <td>NaN</td>\n      <td>NaN</td>\n      <td>NaN</td>\n      <td>NaN</td>\n    </tr>\n    <tr>\n      <th>Blade_Extension</th>\n      <td>NaN</td>\n      <td>NaN</td>\n      <td>NaN</td>\n      <td>NaN</td>\n      <td>NaN</td>\n    </tr>\n    <tr>\n      <th>Blade_Width</th>\n      <td>NaN</td>\n      <td>NaN</td>\n      <td>NaN</td>\n      <td>NaN</td>\n      <td>NaN</td>\n    </tr>\n    <tr>\n      <th>Enclosure_Type</th>\n      <td>NaN</td>\n      <td>NaN</td>\n      <td>NaN</td>\n      <td>NaN</td>\n      <td>NaN</td>\n    </tr>\n    <tr>\n      <th>Engine_Horsepower</th>\n      <td>NaN</td>\n      <td>NaN</td>\n      <td>NaN</td>\n      <td>NaN</td>\n      <td>NaN</td>\n    </tr>\n    <tr>\n      <th>Hydraulics</th>\n      <td>2 Valve</td>\n      <td>2 Valve</td>\n      <td>Auxiliary</td>\n      <td>2 Valve</td>\n      <td>Auxiliary</td>\n    </tr>\n    <tr>\n      <th>Pushblock</th>\n      <td>NaN</td>\n      <td>NaN</td>\n      <td>NaN</td>\n      <td>NaN</td>\n      <td>NaN</td>\n    </tr>\n    <tr>\n      <th>Ripper</th>\n      <td>NaN</td>\n      <td>NaN</td>\n      <td>NaN</td>\n      <td>NaN</td>\n      <td>NaN</td>\n    </tr>\n    <tr>\n      <th>Scarifier</th>\n      <td>NaN</td>\n      <td>NaN</td>\n      <td>NaN</td>\n      <td>NaN</td>\n      <td>NaN</td>\n    </tr>\n    <tr>\n      <th>Tip_Control</th>\n      <td>NaN</td>\n      <td>NaN</td>\n      <td>NaN</td>\n      <td>NaN</td>\n      <td>NaN</td>\n    </tr>\n    <tr>\n      <th>Tire_Size</th>\n      <td>None or Unspecified</td>\n      <td>23.5</td>\n      <td>NaN</td>\n      <td>NaN</td>\n      <td>NaN</td>\n    </tr>\n    <tr>\n      <th>Coupler</th>\n      <td>None or Unspecified</td>\n      <td>None or Unspecified</td>\n      <td>None or Unspecified</td>\n      <td>None or Unspecified</td>\n      <td>None or Unspecified</td>\n    </tr>\n    <tr>\n      <th>Coupler_System</th>\n      <td>NaN</td>\n      <td>NaN</td>\n      <td>None or Unspecified</td>\n      <td>NaN</td>\n      <td>None or Unspecified</td>\n    </tr>\n    <tr>\n      <th>Grouser_Tracks</th>\n      <td>NaN</td>\n      <td>NaN</td>\n      <td>None or Unspecified</td>\n      <td>NaN</td>\n      <td>None or Unspecified</td>\n    </tr>\n    <tr>\n      <th>Hydraulics_Flow</th>\n      <td>NaN</td>\n      <td>NaN</td>\n      <td>Standard</td>\n      <td>NaN</td>\n      <td>Standard</td>\n    </tr>\n    <tr>\n      <th>Track_Type</th>\n      <td>NaN</td>\n      <td>NaN</td>\n      <td>NaN</td>\n      <td>NaN</td>\n      <td>NaN</td>\n    </tr>\n    <tr>\n      <th>Undercarriage_Pad_Width</th>\n      <td>NaN</td>\n      <td>NaN</td>\n      <td>NaN</td>\n      <td>NaN</td>\n      <td>NaN</td>\n    </tr>\n    <tr>\n      <th>Stick_Length</th>\n      <td>NaN</td>\n      <td>NaN</td>\n      <td>NaN</td>\n      <td>NaN</td>\n      <td>NaN</td>\n    </tr>\n    <tr>\n      <th>Thumb</th>\n      <td>NaN</td>\n      <td>NaN</td>\n      <td>NaN</td>\n      <td>NaN</td>\n      <td>NaN</td>\n    </tr>\n    <tr>\n      <th>Pattern_Changer</th>\n      <td>NaN</td>\n      <td>NaN</td>\n      <td>NaN</td>\n      <td>NaN</td>\n      <td>NaN</td>\n    </tr>\n    <tr>\n      <th>Grouser_Type</th>\n      <td>NaN</td>\n      <td>NaN</td>\n      <td>NaN</td>\n      <td>NaN</td>\n      <td>NaN</td>\n    </tr>\n    <tr>\n      <th>Backhoe_Mounting</th>\n      <td>NaN</td>\n      <td>NaN</td>\n      <td>NaN</td>\n      <td>NaN</td>\n      <td>NaN</td>\n    </tr>\n    <tr>\n      <th>Blade_Type</th>\n      <td>NaN</td>\n      <td>NaN</td>\n      <td>NaN</td>\n      <td>NaN</td>\n      <td>NaN</td>\n    </tr>\n    <tr>\n      <th>Travel_Controls</th>\n      <td>NaN</td>\n      <td>NaN</td>\n      <td>NaN</td>\n      <td>NaN</td>\n      <td>NaN</td>\n    </tr>\n    <tr>\n      <th>Differential_Type</th>\n      <td>Standard</td>\n      <td>Standard</td>\n      <td>NaN</td>\n      <td>NaN</td>\n      <td>NaN</td>\n    </tr>\n    <tr>\n      <th>Steering_Controls</th>\n      <td>Conventional</td>\n      <td>Conventional</td>\n      <td>NaN</td>\n      <td>NaN</td>\n      <td>NaN</td>\n    </tr>\n  </tbody>\n</table>\n</div>"
          },
          "metadata": {}
        }
      ]
    },
    {
      "metadata": {
        "_uuid": "fa62b1136647a718514c625c7a5d8f325700700c"
      },
      "cell_type": "markdown",
      "source": "**Problem - Predicting the sale price of bulldozers sold at auctions.**"
    },
    {
      "metadata": {
        "_uuid": "bbec780b4267b6d900611361a44be7f27a86fb58"
      },
      "cell_type": "markdown",
      "source": "*Contest Details - \nThe goal of the contest is to predict the sale price of a particular piece of heavy equiment at auction based on it's usage, equipment type, and configuaration.  The data is sourced from auction result postings and includes information on usage and equipment configurations.*\n\n*Fast Iron is creating a \"blue book for bull dozers,\" for customers to value what their heavy equipment fleet is worth at auction. *"
    },
    {
      "metadata": {
        "_uuid": "ba15615ee6e05843b11c7a52dadab181ef7a39e5"
      },
      "cell_type": "markdown",
      "source": "**Evaluation Criteria:**\n*The evaluation metric for this competition is the RMSLE (root mean squared log error) between the actual and predicted auction prices.*"
    },
    {
      "metadata": {
        "trusted": true,
        "_uuid": "eb821c316c461172c19b2d676d6fbff6b3de9205"
      },
      "cell_type": "code",
      "source": "data_raw.SalePrice = np.log(data_raw.SalePrice)",
      "execution_count": 5,
      "outputs": []
    },
    {
      "metadata": {
        "trusted": true,
        "_uuid": "3db4b8d3bdeaeb0855f0706145d4fd4616917d91"
      },
      "cell_type": "code",
      "source": "data_raw.SalePrice.head()",
      "execution_count": 6,
      "outputs": [
        {
          "output_type": "execute_result",
          "execution_count": 6,
          "data": {
            "text/plain": "0    11.097410\n1    10.950807\n2     9.210340\n3    10.558414\n4     9.305651\nName: SalePrice, dtype: float64"
          },
          "metadata": {}
        }
      ]
    },
    {
      "metadata": {
        "trusted": true,
        "_uuid": "75e17cafd8cb8a0325e017210fcce7104a76c54d"
      },
      "cell_type": "code",
      "source": "m = RandomForestRegressor(n_jobs=-1)\nm.fit(data_raw.drop(columns=['SalePrice'],axis=1),data_raw.SalePrice)",
      "execution_count": 7,
      "outputs": [
        {
          "output_type": "stream",
          "text": "/opt/conda/lib/python3.6/site-packages/sklearn/ensemble/forest.py:248: FutureWarning: The default value of n_estimators will change from 10 in version 0.20 to 100 in 0.22.\n  \"10 in version 0.20 to 100 in 0.22.\", FutureWarning)\n",
          "name": "stderr"
        },
        {
          "output_type": "error",
          "ename": "ValueError",
          "evalue": "could not convert string to float: 'Conventional'",
          "traceback": [
            "\u001b[0;31m---------------------------------------------------------------------------\u001b[0m",
            "\u001b[0;31mValueError\u001b[0m                                Traceback (most recent call last)",
            "\u001b[0;32m<ipython-input-7-d95a3fedda2e>\u001b[0m in \u001b[0;36m<module>\u001b[0;34m()\u001b[0m\n\u001b[1;32m      1\u001b[0m \u001b[0mm\u001b[0m \u001b[0;34m=\u001b[0m \u001b[0mRandomForestRegressor\u001b[0m\u001b[0;34m(\u001b[0m\u001b[0mn_jobs\u001b[0m\u001b[0;34m=\u001b[0m\u001b[0;34m-\u001b[0m\u001b[0;36m1\u001b[0m\u001b[0;34m)\u001b[0m\u001b[0;34m\u001b[0m\u001b[0m\n\u001b[0;32m----> 2\u001b[0;31m \u001b[0mm\u001b[0m\u001b[0;34m.\u001b[0m\u001b[0mfit\u001b[0m\u001b[0;34m(\u001b[0m\u001b[0mdata_raw\u001b[0m\u001b[0;34m.\u001b[0m\u001b[0mdrop\u001b[0m\u001b[0;34m(\u001b[0m\u001b[0mcolumns\u001b[0m\u001b[0;34m=\u001b[0m\u001b[0;34m[\u001b[0m\u001b[0;34m'SalePrice'\u001b[0m\u001b[0;34m]\u001b[0m\u001b[0;34m,\u001b[0m\u001b[0maxis\u001b[0m\u001b[0;34m=\u001b[0m\u001b[0;36m1\u001b[0m\u001b[0;34m)\u001b[0m\u001b[0;34m,\u001b[0m\u001b[0mdata_raw\u001b[0m\u001b[0;34m.\u001b[0m\u001b[0mSalePrice\u001b[0m\u001b[0;34m)\u001b[0m\u001b[0;34m\u001b[0m\u001b[0m\n\u001b[0m",
            "\u001b[0;32m/opt/conda/lib/python3.6/site-packages/sklearn/ensemble/forest.py\u001b[0m in \u001b[0;36mfit\u001b[0;34m(self, X, y, sample_weight)\u001b[0m\n\u001b[1;32m    250\u001b[0m \u001b[0;34m\u001b[0m\u001b[0m\n\u001b[1;32m    251\u001b[0m         \u001b[0;31m# Validate or convert input data\u001b[0m\u001b[0;34m\u001b[0m\u001b[0;34m\u001b[0m\u001b[0m\n\u001b[0;32m--> 252\u001b[0;31m         \u001b[0mX\u001b[0m \u001b[0;34m=\u001b[0m \u001b[0mcheck_array\u001b[0m\u001b[0;34m(\u001b[0m\u001b[0mX\u001b[0m\u001b[0;34m,\u001b[0m \u001b[0maccept_sparse\u001b[0m\u001b[0;34m=\u001b[0m\u001b[0;34m\"csc\"\u001b[0m\u001b[0;34m,\u001b[0m \u001b[0mdtype\u001b[0m\u001b[0;34m=\u001b[0m\u001b[0mDTYPE\u001b[0m\u001b[0;34m)\u001b[0m\u001b[0;34m\u001b[0m\u001b[0m\n\u001b[0m\u001b[1;32m    253\u001b[0m         \u001b[0my\u001b[0m \u001b[0;34m=\u001b[0m \u001b[0mcheck_array\u001b[0m\u001b[0;34m(\u001b[0m\u001b[0my\u001b[0m\u001b[0;34m,\u001b[0m \u001b[0maccept_sparse\u001b[0m\u001b[0;34m=\u001b[0m\u001b[0;34m'csc'\u001b[0m\u001b[0;34m,\u001b[0m \u001b[0mensure_2d\u001b[0m\u001b[0;34m=\u001b[0m\u001b[0;32mFalse\u001b[0m\u001b[0;34m,\u001b[0m \u001b[0mdtype\u001b[0m\u001b[0;34m=\u001b[0m\u001b[0;32mNone\u001b[0m\u001b[0;34m)\u001b[0m\u001b[0;34m\u001b[0m\u001b[0m\n\u001b[1;32m    254\u001b[0m         \u001b[0;32mif\u001b[0m \u001b[0msample_weight\u001b[0m \u001b[0;32mis\u001b[0m \u001b[0;32mnot\u001b[0m \u001b[0;32mNone\u001b[0m\u001b[0;34m:\u001b[0m\u001b[0;34m\u001b[0m\u001b[0m\n",
            "\u001b[0;32m/opt/conda/lib/python3.6/site-packages/sklearn/utils/validation.py\u001b[0m in \u001b[0;36mcheck_array\u001b[0;34m(array, accept_sparse, accept_large_sparse, dtype, order, copy, force_all_finite, ensure_2d, allow_nd, ensure_min_samples, ensure_min_features, warn_on_dtype, estimator)\u001b[0m\n\u001b[1;32m    520\u001b[0m             \u001b[0;32mtry\u001b[0m\u001b[0;34m:\u001b[0m\u001b[0;34m\u001b[0m\u001b[0m\n\u001b[1;32m    521\u001b[0m                 \u001b[0mwarnings\u001b[0m\u001b[0;34m.\u001b[0m\u001b[0msimplefilter\u001b[0m\u001b[0;34m(\u001b[0m\u001b[0;34m'error'\u001b[0m\u001b[0;34m,\u001b[0m \u001b[0mComplexWarning\u001b[0m\u001b[0;34m)\u001b[0m\u001b[0;34m\u001b[0m\u001b[0m\n\u001b[0;32m--> 522\u001b[0;31m                 \u001b[0marray\u001b[0m \u001b[0;34m=\u001b[0m \u001b[0mnp\u001b[0m\u001b[0;34m.\u001b[0m\u001b[0masarray\u001b[0m\u001b[0;34m(\u001b[0m\u001b[0marray\u001b[0m\u001b[0;34m,\u001b[0m \u001b[0mdtype\u001b[0m\u001b[0;34m=\u001b[0m\u001b[0mdtype\u001b[0m\u001b[0;34m,\u001b[0m \u001b[0morder\u001b[0m\u001b[0;34m=\u001b[0m\u001b[0morder\u001b[0m\u001b[0;34m)\u001b[0m\u001b[0;34m\u001b[0m\u001b[0m\n\u001b[0m\u001b[1;32m    523\u001b[0m             \u001b[0;32mexcept\u001b[0m \u001b[0mComplexWarning\u001b[0m\u001b[0;34m:\u001b[0m\u001b[0;34m\u001b[0m\u001b[0m\n\u001b[1;32m    524\u001b[0m                 raise ValueError(\"Complex data not supported\\n\"\n",
            "\u001b[0;32m/opt/conda/lib/python3.6/site-packages/numpy/core/numeric.py\u001b[0m in \u001b[0;36masarray\u001b[0;34m(a, dtype, order)\u001b[0m\n\u001b[1;32m    499\u001b[0m \u001b[0;34m\u001b[0m\u001b[0m\n\u001b[1;32m    500\u001b[0m     \"\"\"\n\u001b[0;32m--> 501\u001b[0;31m     \u001b[0;32mreturn\u001b[0m \u001b[0marray\u001b[0m\u001b[0;34m(\u001b[0m\u001b[0ma\u001b[0m\u001b[0;34m,\u001b[0m \u001b[0mdtype\u001b[0m\u001b[0;34m,\u001b[0m \u001b[0mcopy\u001b[0m\u001b[0;34m=\u001b[0m\u001b[0;32mFalse\u001b[0m\u001b[0;34m,\u001b[0m \u001b[0morder\u001b[0m\u001b[0;34m=\u001b[0m\u001b[0morder\u001b[0m\u001b[0;34m)\u001b[0m\u001b[0;34m\u001b[0m\u001b[0m\n\u001b[0m\u001b[1;32m    502\u001b[0m \u001b[0;34m\u001b[0m\u001b[0m\n\u001b[1;32m    503\u001b[0m \u001b[0;34m\u001b[0m\u001b[0m\n",
            "\u001b[0;31mValueError\u001b[0m: could not convert string to float: 'Conventional'"
          ]
        }
      ]
    },
    {
      "metadata": {
        "_uuid": "5370f6c7d421826c67f899698c4209df3160b625"
      },
      "cell_type": "markdown",
      "source": "It appears that we have categorical data in our dataset"
    },
    {
      "metadata": {
        "trusted": true,
        "_uuid": "4adbf9eeefc133ae5d519adbe9aba25978388775"
      },
      "cell_type": "code",
      "source": "data_raw.saledate.head()",
      "execution_count": 8,
      "outputs": [
        {
          "output_type": "execute_result",
          "execution_count": 8,
          "data": {
            "text/plain": "0   2006-11-16\n1   2004-03-26\n2   2004-02-26\n3   2011-05-19\n4   2009-07-23\nName: saledate, dtype: datetime64[ns]"
          },
          "metadata": {}
        }
      ]
    },
    {
      "metadata": {
        "_uuid": "58252f45fe8db8666db230e3caf6464c2f359c98"
      },
      "cell_type": "markdown",
      "source": "*Extracting useful information from **saledate** column like date, month, year, day_of_week, is_month_start, is_month_end, is_year_start, is_year_end etc.*"
    },
    {
      "metadata": {
        "trusted": true,
        "_uuid": "4d9e7e8b1acba1fabde2f8e11305f0ff612933bf"
      },
      "cell_type": "code",
      "source": "add_datepart(data_raw,'saledate')",
      "execution_count": 9,
      "outputs": []
    },
    {
      "metadata": {
        "trusted": true,
        "_uuid": "30ca85d9a83732bf1481f21a0143fa41e12decaf"
      },
      "cell_type": "code",
      "source": "data_raw.saleDayofweek.head()",
      "execution_count": 10,
      "outputs": [
        {
          "output_type": "execute_result",
          "execution_count": 10,
          "data": {
            "text/plain": "0    3\n1    4\n2    3\n3    3\n4    3\nName: saleDayofweek, dtype: int64"
          },
          "metadata": {}
        }
      ]
    },
    {
      "metadata": {
        "trusted": true,
        "_uuid": "90dba7e21f6db46aa863e9c5d4b8b7587f867363"
      },
      "cell_type": "code",
      "source": "data_raw.columns",
      "execution_count": 11,
      "outputs": [
        {
          "output_type": "execute_result",
          "execution_count": 11,
          "data": {
            "text/plain": "Index(['SalesID', 'SalePrice', 'MachineID', 'ModelID', 'datasource',\n       'auctioneerID', 'YearMade', 'MachineHoursCurrentMeter', 'UsageBand',\n       'fiModelDesc', 'fiBaseModel', 'fiSecondaryDesc', 'fiModelSeries',\n       'fiModelDescriptor', 'ProductSize', 'fiProductClassDesc', 'state',\n       'ProductGroup', 'ProductGroupDesc', 'Drive_System', 'Enclosure',\n       'Forks', 'Pad_Type', 'Ride_Control', 'Stick', 'Transmission',\n       'Turbocharged', 'Blade_Extension', 'Blade_Width', 'Enclosure_Type',\n       'Engine_Horsepower', 'Hydraulics', 'Pushblock', 'Ripper', 'Scarifier',\n       'Tip_Control', 'Tire_Size', 'Coupler', 'Coupler_System',\n       'Grouser_Tracks', 'Hydraulics_Flow', 'Track_Type',\n       'Undercarriage_Pad_Width', 'Stick_Length', 'Thumb', 'Pattern_Changer',\n       'Grouser_Type', 'Backhoe_Mounting', 'Blade_Type', 'Travel_Controls',\n       'Differential_Type', 'Steering_Controls', 'saleYear', 'saleMonth',\n       'saleWeek', 'saleDay', 'saleDayofweek', 'saleDayofyear',\n       'saleIs_month_end', 'saleIs_month_start', 'saleIs_quarter_end',\n       'saleIs_quarter_start', 'saleIs_year_end', 'saleIs_year_start',\n       'saleElapsed'],\n      dtype='object')"
          },
          "metadata": {}
        }
      ]
    },
    {
      "metadata": {
        "_uuid": "e72dc14aa649b4bd5feafcc0d4dd672c7324932c"
      },
      "cell_type": "markdown",
      "source": "From above we can find out that sale date is converted into more number of useful columns."
    },
    {
      "metadata": {
        "trusted": true,
        "_uuid": "8c2802b454dc02c32853a21668d9a66e0a233599"
      },
      "cell_type": "code",
      "source": "data_raw.shape[1]",
      "execution_count": 12,
      "outputs": [
        {
          "output_type": "execute_result",
          "execution_count": 12,
          "data": {
            "text/plain": "65"
          },
          "metadata": {}
        }
      ]
    },
    {
      "metadata": {
        "_uuid": "fe1b3fc59863af06edbd3841e0f124c5af679aa3"
      },
      "cell_type": "markdown",
      "source": "*Using the : **train_cats(dataframe)** to Change any columns of strings in a panda's dataframe to a column of\ncategorical values. This applies the changes inplace.*"
    },
    {
      "metadata": {
        "trusted": true,
        "_uuid": "f4fe2c7b6ab90ddb7fab8a05286da5557567b09a"
      },
      "cell_type": "code",
      "source": "train_cats(data_raw)",
      "execution_count": 13,
      "outputs": []
    },
    {
      "metadata": {
        "_uuid": "0a5500b67f952952d8ab3a07bdd5ffa005bbfef9"
      },
      "cell_type": "markdown",
      "source": "Lets see into how many categories UsageBand is classified into"
    },
    {
      "metadata": {
        "trusted": true,
        "_uuid": "5f4c55fe9d97846d1f05317d4bd86e2db9b61633"
      },
      "cell_type": "code",
      "source": "data_raw.UsageBand.cat.categories",
      "execution_count": 15,
      "outputs": [
        {
          "output_type": "execute_result",
          "execution_count": 15,
          "data": {
            "text/plain": "Index(['High', 'Low', 'Medium'], dtype='object')"
          },
          "metadata": {}
        }
      ]
    },
    {
      "metadata": {
        "_uuid": "a38c7733a8149e3730bc8012cb795bc9518f4e4a"
      },
      "cell_type": "markdown",
      "source": "Arranging the above categories into more sensible way."
    },
    {
      "metadata": {
        "trusted": true,
        "_uuid": "92e5748dc6ae366b75879c972295cfd62040383e"
      },
      "cell_type": "code",
      "source": "data_raw.UsageBand.cat.set_categories(['High','Medium','Low'],ordered=True,inplace=True)",
      "execution_count": 16,
      "outputs": []
    },
    {
      "metadata": {
        "trusted": true,
        "_uuid": "d19f7f1aae90eb50ef5876b8374b87590568d60e"
      },
      "cell_type": "code",
      "source": "data_raw.UsageBand.cat.codes.head()",
      "execution_count": 17,
      "outputs": [
        {
          "output_type": "execute_result",
          "execution_count": 17,
          "data": {
            "text/plain": "0    2\n1    2\n2    0\n3    0\n4    1\ndtype: int8"
          },
          "metadata": {}
        }
      ]
    },
    {
      "metadata": {
        "_uuid": "14fbb8f41dbbaa70e40f1c3fef4ff9e2f7176113"
      },
      "cell_type": "markdown",
      "source": "**Checking For Missing Values**"
    },
    {
      "metadata": {
        "trusted": true,
        "_uuid": "c0561494ae6b3b0458530f2d09f0f8d9f0b24029"
      },
      "cell_type": "code",
      "source": "data_raw.isnull().sum().sort_index()/len(data_raw.SalePrice)",
      "execution_count": 18,
      "outputs": [
        {
          "output_type": "execute_result",
          "execution_count": 18,
          "data": {
            "text/plain": "Backhoe_Mounting            0.803872\nBlade_Extension             0.937129\nBlade_Type                  0.800977\nBlade_Width                 0.937129\nCoupler                     0.466620\nCoupler_System              0.891660\nDifferential_Type           0.826959\nDrive_System                0.739829\nEnclosure                   0.000810\nEnclosure_Type              0.937129\nEngine_Horsepower           0.937129\nForks                       0.521154\nGrouser_Tracks              0.891899\nGrouser_Type                0.752813\nHydraulics                  0.200823\nHydraulics_Flow             0.891899\nMachineHoursCurrentMeter    0.644089\nMachineID                   0.000000\nModelID                     0.000000\nPad_Type                    0.802720\nPattern_Changer             0.752651\nProductGroup                0.000000\nProductGroupDesc            0.000000\nProductSize                 0.525460\nPushblock                   0.937129\nRide_Control                0.629527\nRipper                      0.740388\nSalePrice                   0.000000\nSalesID                     0.000000\nScarifier                   0.937102\n                              ...   \nTire_Size                   0.763869\nTrack_Type                  0.752813\nTransmission                0.543210\nTravel_Controls             0.800975\nTurbocharged                0.802720\nUndercarriage_Pad_Width     0.751020\nUsageBand                   0.826391\nYearMade                    0.000000\nauctioneerID                0.050199\ndatasource                  0.000000\nfiBaseModel                 0.000000\nfiModelDesc                 0.000000\nfiModelDescriptor           0.820707\nfiModelSeries               0.858129\nfiProductClassDesc          0.000000\nfiSecondaryDesc             0.342016\nsaleDay                     0.000000\nsaleDayofweek               0.000000\nsaleDayofyear               0.000000\nsaleElapsed                 0.000000\nsaleIs_month_end            0.000000\nsaleIs_month_start          0.000000\nsaleIs_quarter_end          0.000000\nsaleIs_quarter_start        0.000000\nsaleIs_year_end             0.000000\nsaleIs_year_start           0.000000\nsaleMonth                   0.000000\nsaleWeek                    0.000000\nsaleYear                    0.000000\nstate                       0.000000\nLength: 65, dtype: float64"
          },
          "metadata": {}
        }
      ]
    },
    {
      "metadata": {
        "trusted": true,
        "_uuid": "1ace2a81b560b3aae18bec041ccd6c7f0bbc6e88"
      },
      "cell_type": "code",
      "source": "df_raw = data_raw",
      "execution_count": 20,
      "outputs": []
    },
    {
      "metadata": {
        "_uuid": "a87225f40684e94b2004d79b19e45ea45f059c6b"
      },
      "cell_type": "markdown",
      "source": "*Now we have separated SalePrice column from df_raw and returned dataframe into df, and SalePrice(Target Variable) into y. Along with handling missing values and categorical data*"
    },
    {
      "metadata": {
        "trusted": true,
        "_uuid": "e4285f5f93b537a4fe87111494e7786e62b1db84"
      },
      "cell_type": "code",
      "source": "df, y,nac = proc_df(df_raw,'SalePrice')",
      "execution_count": 21,
      "outputs": []
    },
    {
      "metadata": {
        "trusted": true,
        "_uuid": "0901e2b3a8bdb49013579b7f06f06137fe262595"
      },
      "cell_type": "code",
      "source": "df.head()",
      "execution_count": 24,
      "outputs": [
        {
          "output_type": "execute_result",
          "execution_count": 24,
          "data": {
            "text/plain": "   SalesID             ...               MachineHoursCurrentMeter_na\n0  1139246             ...                                     False\n1  1139248             ...                                     False\n2  1139249             ...                                     False\n3  1139251             ...                                     False\n4  1139253             ...                                     False\n\n[5 rows x 66 columns]",
            "text/html": "<div>\n<style scoped>\n    .dataframe tbody tr th:only-of-type {\n        vertical-align: middle;\n    }\n\n    .dataframe tbody tr th {\n        vertical-align: top;\n    }\n\n    .dataframe thead th {\n        text-align: right;\n    }\n</style>\n<table border=\"1\" class=\"dataframe\">\n  <thead>\n    <tr style=\"text-align: right;\">\n      <th></th>\n      <th>SalesID</th>\n      <th>MachineID</th>\n      <th>ModelID</th>\n      <th>datasource</th>\n      <th>auctioneerID</th>\n      <th>YearMade</th>\n      <th>MachineHoursCurrentMeter</th>\n      <th>UsageBand</th>\n      <th>fiModelDesc</th>\n      <th>fiBaseModel</th>\n      <th>fiSecondaryDesc</th>\n      <th>fiModelSeries</th>\n      <th>fiModelDescriptor</th>\n      <th>ProductSize</th>\n      <th>fiProductClassDesc</th>\n      <th>state</th>\n      <th>ProductGroup</th>\n      <th>ProductGroupDesc</th>\n      <th>Drive_System</th>\n      <th>Enclosure</th>\n      <th>Forks</th>\n      <th>Pad_Type</th>\n      <th>Ride_Control</th>\n      <th>Stick</th>\n      <th>Transmission</th>\n      <th>Turbocharged</th>\n      <th>Blade_Extension</th>\n      <th>Blade_Width</th>\n      <th>Enclosure_Type</th>\n      <th>Engine_Horsepower</th>\n      <th>Hydraulics</th>\n      <th>Pushblock</th>\n      <th>Ripper</th>\n      <th>Scarifier</th>\n      <th>Tip_Control</th>\n      <th>Tire_Size</th>\n      <th>Coupler</th>\n      <th>Coupler_System</th>\n      <th>Grouser_Tracks</th>\n      <th>Hydraulics_Flow</th>\n      <th>Track_Type</th>\n      <th>Undercarriage_Pad_Width</th>\n      <th>Stick_Length</th>\n      <th>Thumb</th>\n      <th>Pattern_Changer</th>\n      <th>Grouser_Type</th>\n      <th>Backhoe_Mounting</th>\n      <th>Blade_Type</th>\n      <th>Travel_Controls</th>\n      <th>Differential_Type</th>\n      <th>Steering_Controls</th>\n      <th>saleYear</th>\n      <th>saleMonth</th>\n      <th>saleWeek</th>\n      <th>saleDay</th>\n      <th>saleDayofweek</th>\n      <th>saleDayofyear</th>\n      <th>saleIs_month_end</th>\n      <th>saleIs_month_start</th>\n      <th>saleIs_quarter_end</th>\n      <th>saleIs_quarter_start</th>\n      <th>saleIs_year_end</th>\n      <th>saleIs_year_start</th>\n      <th>saleElapsed</th>\n      <th>auctioneerID_na</th>\n      <th>MachineHoursCurrentMeter_na</th>\n    </tr>\n  </thead>\n  <tbody>\n    <tr>\n      <th>0</th>\n      <td>1139246</td>\n      <td>999089</td>\n      <td>3157</td>\n      <td>121</td>\n      <td>3.0</td>\n      <td>2004</td>\n      <td>68.0</td>\n      <td>3</td>\n      <td>950</td>\n      <td>296</td>\n      <td>41</td>\n      <td>0</td>\n      <td>0</td>\n      <td>0</td>\n      <td>59</td>\n      <td>1</td>\n      <td>6</td>\n      <td>6</td>\n      <td>0</td>\n      <td>3</td>\n      <td>1</td>\n      <td>0</td>\n      <td>2</td>\n      <td>0</td>\n      <td>0</td>\n      <td>0</td>\n      <td>0</td>\n      <td>0</td>\n      <td>0</td>\n      <td>0</td>\n      <td>1</td>\n      <td>0</td>\n      <td>0</td>\n      <td>0</td>\n      <td>0</td>\n      <td>17</td>\n      <td>3</td>\n      <td>0</td>\n      <td>0</td>\n      <td>0</td>\n      <td>0</td>\n      <td>0</td>\n      <td>0</td>\n      <td>0</td>\n      <td>0</td>\n      <td>0</td>\n      <td>0</td>\n      <td>0</td>\n      <td>0</td>\n      <td>4</td>\n      <td>2</td>\n      <td>2006</td>\n      <td>11</td>\n      <td>46</td>\n      <td>16</td>\n      <td>3</td>\n      <td>320</td>\n      <td>False</td>\n      <td>False</td>\n      <td>False</td>\n      <td>False</td>\n      <td>False</td>\n      <td>False</td>\n      <td>1163635200</td>\n      <td>False</td>\n      <td>False</td>\n    </tr>\n    <tr>\n      <th>1</th>\n      <td>1139248</td>\n      <td>117657</td>\n      <td>77</td>\n      <td>121</td>\n      <td>3.0</td>\n      <td>1996</td>\n      <td>4640.0</td>\n      <td>3</td>\n      <td>1725</td>\n      <td>527</td>\n      <td>55</td>\n      <td>98</td>\n      <td>0</td>\n      <td>4</td>\n      <td>62</td>\n      <td>33</td>\n      <td>6</td>\n      <td>6</td>\n      <td>0</td>\n      <td>3</td>\n      <td>1</td>\n      <td>0</td>\n      <td>2</td>\n      <td>0</td>\n      <td>0</td>\n      <td>0</td>\n      <td>0</td>\n      <td>0</td>\n      <td>0</td>\n      <td>0</td>\n      <td>1</td>\n      <td>0</td>\n      <td>0</td>\n      <td>0</td>\n      <td>0</td>\n      <td>12</td>\n      <td>3</td>\n      <td>0</td>\n      <td>0</td>\n      <td>0</td>\n      <td>0</td>\n      <td>0</td>\n      <td>0</td>\n      <td>0</td>\n      <td>0</td>\n      <td>0</td>\n      <td>0</td>\n      <td>0</td>\n      <td>0</td>\n      <td>4</td>\n      <td>2</td>\n      <td>2004</td>\n      <td>3</td>\n      <td>13</td>\n      <td>26</td>\n      <td>4</td>\n      <td>86</td>\n      <td>False</td>\n      <td>False</td>\n      <td>False</td>\n      <td>False</td>\n      <td>False</td>\n      <td>False</td>\n      <td>1080259200</td>\n      <td>False</td>\n      <td>False</td>\n    </tr>\n    <tr>\n      <th>2</th>\n      <td>1139249</td>\n      <td>434808</td>\n      <td>7009</td>\n      <td>121</td>\n      <td>3.0</td>\n      <td>2001</td>\n      <td>2838.0</td>\n      <td>1</td>\n      <td>331</td>\n      <td>110</td>\n      <td>0</td>\n      <td>0</td>\n      <td>0</td>\n      <td>0</td>\n      <td>39</td>\n      <td>32</td>\n      <td>3</td>\n      <td>3</td>\n      <td>0</td>\n      <td>6</td>\n      <td>1</td>\n      <td>0</td>\n      <td>0</td>\n      <td>0</td>\n      <td>0</td>\n      <td>0</td>\n      <td>0</td>\n      <td>0</td>\n      <td>0</td>\n      <td>0</td>\n      <td>4</td>\n      <td>0</td>\n      <td>0</td>\n      <td>0</td>\n      <td>0</td>\n      <td>0</td>\n      <td>3</td>\n      <td>1</td>\n      <td>1</td>\n      <td>3</td>\n      <td>0</td>\n      <td>0</td>\n      <td>0</td>\n      <td>0</td>\n      <td>0</td>\n      <td>0</td>\n      <td>0</td>\n      <td>0</td>\n      <td>0</td>\n      <td>0</td>\n      <td>0</td>\n      <td>2004</td>\n      <td>2</td>\n      <td>9</td>\n      <td>26</td>\n      <td>3</td>\n      <td>57</td>\n      <td>False</td>\n      <td>False</td>\n      <td>False</td>\n      <td>False</td>\n      <td>False</td>\n      <td>False</td>\n      <td>1077753600</td>\n      <td>False</td>\n      <td>False</td>\n    </tr>\n    <tr>\n      <th>3</th>\n      <td>1139251</td>\n      <td>1026470</td>\n      <td>332</td>\n      <td>121</td>\n      <td>3.0</td>\n      <td>2001</td>\n      <td>3486.0</td>\n      <td>1</td>\n      <td>3674</td>\n      <td>1375</td>\n      <td>0</td>\n      <td>45</td>\n      <td>0</td>\n      <td>6</td>\n      <td>8</td>\n      <td>44</td>\n      <td>4</td>\n      <td>4</td>\n      <td>0</td>\n      <td>3</td>\n      <td>0</td>\n      <td>0</td>\n      <td>0</td>\n      <td>0</td>\n      <td>0</td>\n      <td>0</td>\n      <td>0</td>\n      <td>0</td>\n      <td>0</td>\n      <td>0</td>\n      <td>1</td>\n      <td>0</td>\n      <td>0</td>\n      <td>0</td>\n      <td>0</td>\n      <td>0</td>\n      <td>3</td>\n      <td>0</td>\n      <td>0</td>\n      <td>0</td>\n      <td>0</td>\n      <td>0</td>\n      <td>0</td>\n      <td>0</td>\n      <td>0</td>\n      <td>0</td>\n      <td>0</td>\n      <td>0</td>\n      <td>0</td>\n      <td>0</td>\n      <td>0</td>\n      <td>2011</td>\n      <td>5</td>\n      <td>20</td>\n      <td>19</td>\n      <td>3</td>\n      <td>139</td>\n      <td>False</td>\n      <td>False</td>\n      <td>False</td>\n      <td>False</td>\n      <td>False</td>\n      <td>False</td>\n      <td>1305763200</td>\n      <td>False</td>\n      <td>False</td>\n    </tr>\n    <tr>\n      <th>4</th>\n      <td>1139253</td>\n      <td>1057373</td>\n      <td>17311</td>\n      <td>121</td>\n      <td>3.0</td>\n      <td>2007</td>\n      <td>722.0</td>\n      <td>2</td>\n      <td>4208</td>\n      <td>1529</td>\n      <td>0</td>\n      <td>0</td>\n      <td>0</td>\n      <td>0</td>\n      <td>40</td>\n      <td>32</td>\n      <td>3</td>\n      <td>3</td>\n      <td>0</td>\n      <td>1</td>\n      <td>1</td>\n      <td>0</td>\n      <td>0</td>\n      <td>0</td>\n      <td>0</td>\n      <td>0</td>\n      <td>0</td>\n      <td>0</td>\n      <td>0</td>\n      <td>0</td>\n      <td>4</td>\n      <td>0</td>\n      <td>0</td>\n      <td>0</td>\n      <td>0</td>\n      <td>0</td>\n      <td>3</td>\n      <td>1</td>\n      <td>1</td>\n      <td>3</td>\n      <td>0</td>\n      <td>0</td>\n      <td>0</td>\n      <td>0</td>\n      <td>0</td>\n      <td>0</td>\n      <td>0</td>\n      <td>0</td>\n      <td>0</td>\n      <td>0</td>\n      <td>0</td>\n      <td>2009</td>\n      <td>7</td>\n      <td>30</td>\n      <td>23</td>\n      <td>3</td>\n      <td>204</td>\n      <td>False</td>\n      <td>False</td>\n      <td>False</td>\n      <td>False</td>\n      <td>False</td>\n      <td>False</td>\n      <td>1248307200</td>\n      <td>False</td>\n      <td>False</td>\n    </tr>\n  </tbody>\n</table>\n</div>"
          },
          "metadata": {}
        }
      ]
    },
    {
      "metadata": {
        "_uuid": "c371dc21b640593f6ffb9fc8b163694934638ee9"
      },
      "cell_type": "markdown",
      "source": "**Lets Build our First Model using Random Forest with 10 estimators**"
    },
    {
      "metadata": {
        "trusted": true,
        "_uuid": "197f87b52de30604425892c79325fe9f83b4e06a"
      },
      "cell_type": "code",
      "source": "m = RandomForestRegressor(n_jobs=-1)\nm.fit(df,y)\nm.score(df,y)",
      "execution_count": 25,
      "outputs": [
        {
          "output_type": "stream",
          "text": "/opt/conda/lib/python3.6/site-packages/sklearn/ensemble/forest.py:248: FutureWarning: The default value of n_estimators will change from 10 in version 0.20 to 100 in 0.22.\n  \"10 in version 0.20 to 100 in 0.22.\", FutureWarning)\n",
          "name": "stderr"
        },
        {
          "output_type": "execute_result",
          "execution_count": 25,
          "data": {
            "text/plain": "0.9831226840988966"
          },
          "metadata": {}
        }
      ]
    },
    {
      "metadata": {
        "_uuid": "167bb1497ab092c99416d84845c822e7e89bdb26"
      },
      "cell_type": "markdown",
      "source": "*Lets split the df and y into train sets and validation sets to check whether model overfits on validation set*"
    },
    {
      "metadata": {
        "trusted": true,
        "_uuid": "9fbf23d0acf1893fa745fcdd08c61ed912395fb1"
      },
      "cell_type": "code",
      "source": "def split_vals(a,n): return a[:n].copy(), a[n:].copy()\nn_valid = 12000  # same as Kaggle's test set size\nn_trn = len(df)-n_valid\nraw_train, raw_valid = split_vals(df_raw, n_trn)\nX_train, X_valid = split_vals(df, n_trn)\ny_train, y_valid = split_vals(y, n_trn)\nX_train.shape, y_train.shape, X_valid.shape",
      "execution_count": 26,
      "outputs": [
        {
          "output_type": "execute_result",
          "execution_count": 26,
          "data": {
            "text/plain": "((389125, 66), (389125,), (12000, 66))"
          },
          "metadata": {}
        }
      ]
    },
    {
      "metadata": {
        "_uuid": "69b243a0b57effe678069e2ebbdf22c93dda5581"
      },
      "cell_type": "markdown",
      "source": "**Lets define the Root Mean Squared Error Function**"
    },
    {
      "metadata": {
        "trusted": true,
        "_uuid": "fb33cd8845595b91036f9440e4a795437b7b41a7"
      },
      "cell_type": "code",
      "source": "def rmse(x,y): return math.sqrt(((x-y)**2).mean())",
      "execution_count": 27,
      "outputs": []
    },
    {
      "metadata": {
        "_uuid": "555f65ba9e28269ff290bd4731034e22b2840d27"
      },
      "cell_type": "markdown",
      "source": "**print_score(model)** *Function to print r^2 score and rmse on train set and validation set*"
    },
    {
      "metadata": {
        "trusted": true,
        "_uuid": "8175f6496bcfdb9b7a356020a0b122ab4dc1d6a3"
      },
      "cell_type": "code",
      "source": "def print_score(m):\n    res = [rmse(m.predict(X_train), y_train),\n           rmse(m.predict(X_valid), y_valid),\n           m.score(X_train, y_train), m.score(X_valid, y_valid)]\n    if hasattr(m, 'oob_score_'): res.append(m.oob_score_)\n    print(res)",
      "execution_count": 28,
      "outputs": []
    },
    {
      "metadata": {
        "trusted": true,
        "_uuid": "7ebf62a0b9be0bc58ccd895ba6954b08d1e8edba"
      },
      "cell_type": "code",
      "source": "m = RandomForestRegressor(n_jobs=-1)\n%time m.fit(X_train, y_train)\nprint_score(m)",
      "execution_count": 29,
      "outputs": [
        {
          "output_type": "stream",
          "text": "/opt/conda/lib/python3.6/site-packages/sklearn/ensemble/forest.py:248: FutureWarning: The default value of n_estimators will change from 10 in version 0.20 to 100 in 0.22.\n  \"10 in version 0.20 to 100 in 0.22.\", FutureWarning)\n",
          "name": "stderr"
        },
        {
          "output_type": "stream",
          "text": "CPU times: user 1min 39s, sys: 764 ms, total: 1min 39s\nWall time: 29.7 s\n[0.09051145093430334, 0.2480872696338315, 0.9828784972546952, 0.8900850079458388]\n",
          "name": "stdout"
        }
      ]
    },
    {
      "metadata": {
        "_uuid": "8a2ad918f23a51118761b849737cae17c45b3f8d"
      },
      "cell_type": "markdown",
      "source": "**Lets Tune the Hyper parameters of our Model**"
    },
    {
      "metadata": {
        "trusted": true,
        "_uuid": "a09bf49d0524b5f69385ba2d211f68890129272d"
      },
      "cell_type": "code",
      "source": "set_rf_samples(50000)",
      "execution_count": 31,
      "outputs": []
    },
    {
      "metadata": {
        "_uuid": "ed151347eecb760240400ffee656bdfc3890e1bc"
      },
      "cell_type": "markdown",
      "source": "**set_rf_samples(n)**:\n*Changes Scikit learn's random forests to give each tree a random sample of n*"
    },
    {
      "metadata": {
        "trusted": true,
        "_uuid": "9a8b9ff7952e139a8b41413ec7905b76701052f8"
      },
      "cell_type": "code",
      "source": "m = RandomForestRegressor(n_estimators = 100,n_jobs=-1)\n%time m.fit(X_train, y_train)\nprint_score(m)",
      "execution_count": 32,
      "outputs": [
        {
          "output_type": "stream",
          "text": "CPU times: user 3min 15s, sys: 1.52 s, total: 3min 17s\nWall time: 51.6 s\n[0.1944310252429609, 0.2470933687390086, 0.9209929295647407, 0.8909639388013467]\n",
          "name": "stdout"
        }
      ]
    },
    {
      "metadata": {
        "_uuid": "8f6c008b49c2f82c39b60473374272d9647473ff"
      },
      "cell_type": "markdown",
      "source": "**Our Model is not too much overfitting on the training set.**\n**RMSE on training set:     0.1944**\n**RMSE on validation set: 0.2470\n**"
    },
    {
      "metadata": {
        "trusted": true,
        "_uuid": "5d5ea3c78eedd9fbdbe0718a47cb692056ca3beb"
      },
      "cell_type": "code",
      "source": "set_rf_samples(50000)",
      "execution_count": 36,
      "outputs": []
    },
    {
      "metadata": {
        "trusted": true,
        "_uuid": "da70a7065d7ba552ebe415ed45c6882c9fdcaafc"
      },
      "cell_type": "code",
      "source": "m = RandomForestRegressor(n_estimators = 100,n_jobs=-1,min_samples_leaf=3)\n%time m.fit(X_train, y_train)\nprint_score(m)",
      "execution_count": 37,
      "outputs": [
        {
          "output_type": "stream",
          "text": "CPU times: user 2min 48s, sys: 464 ms, total: 2min 49s\nWall time: 43.8 s\n[0.2035506565391983, 0.24647218549240466, 0.9134075871678974, 0.8915114746401221]\n",
          "name": "stdout"
        }
      ]
    },
    {
      "metadata": {
        "_uuid": "59db65dceb9598e74b36ed2c2db9c7805d4355e5"
      },
      "cell_type": "markdown",
      "source": "**We obtained a better performance on Validation set and our model is now not overfitting much**"
    },
    {
      "metadata": {
        "_uuid": "81b267794f35542a855d76dce6ddc548dd536fa2"
      },
      "cell_type": "markdown",
      "source": "* RMSE on training set: 0.2035\n* R^2 Score on training set: 0.9134\n* RMSE on validation set: 0.2464\n* R^2 Score on validation set: 0.8915"
    }
  ],
  "metadata": {
    "kernelspec": {
      "display_name": "Python 3",
      "language": "python",
      "name": "python3"
    },
    "language_info": {
      "name": "python",
      "version": "3.6.6",
      "mimetype": "text/x-python",
      "codemirror_mode": {
        "name": "ipython",
        "version": 3
      },
      "pygments_lexer": "ipython3",
      "nbconvert_exporter": "python",
      "file_extension": ".py"
    }
  },
  "nbformat": 4,
  "nbformat_minor": 1
}