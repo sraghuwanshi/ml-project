{
  "cells": [
    {
      "metadata": {
        "trusted": true,
        "_uuid": "221639b62a8e0eba34ae082f289ee9569442074f"
      },
      "cell_type": "code",
      "source": "import numpy as np\nimport pandas as pd",
      "execution_count": 118,
      "outputs": []
    },
    {
      "metadata": {
        "_uuid": "85f50624b93160b55ae3917534888e919207b352"
      },
      "cell_type": "markdown",
      "source": "**Reading the Train and Test Set**"
    },
    {
      "metadata": {
        "trusted": true,
        "_uuid": "0844e0b61659a8c398047c34762011832e6947ee"
      },
      "cell_type": "code",
      "source": "train = pd.read_csv('../input/train.csv')\ntest = (pd.read_csv(\"../input/test.csv\").values).astype('float32')",
      "execution_count": 119,
      "outputs": []
    },
    {
      "metadata": {
        "trusted": true,
        "_uuid": "1322b5a7544f3acdc78034739c95b8e33076b145"
      },
      "cell_type": "code",
      "source": "train.head()",
      "execution_count": 120,
      "outputs": [
        {
          "output_type": "execute_result",
          "execution_count": 120,
          "data": {
            "text/plain": "   label  pixel0  pixel1    ...     pixel781  pixel782  pixel783\n0      1       0       0    ...            0         0         0\n1      0       0       0    ...            0         0         0\n2      1       0       0    ...            0         0         0\n3      4       0       0    ...            0         0         0\n4      0       0       0    ...            0         0         0\n\n[5 rows x 785 columns]",
            "text/html": "<div>\n<style scoped>\n    .dataframe tbody tr th:only-of-type {\n        vertical-align: middle;\n    }\n\n    .dataframe tbody tr th {\n        vertical-align: top;\n    }\n\n    .dataframe thead th {\n        text-align: right;\n    }\n</style>\n<table border=\"1\" class=\"dataframe\">\n  <thead>\n    <tr style=\"text-align: right;\">\n      <th></th>\n      <th>label</th>\n      <th>pixel0</th>\n      <th>pixel1</th>\n      <th>pixel2</th>\n      <th>pixel3</th>\n      <th>pixel4</th>\n      <th>pixel5</th>\n      <th>pixel6</th>\n      <th>pixel7</th>\n      <th>pixel8</th>\n      <th>pixel9</th>\n      <th>pixel10</th>\n      <th>pixel11</th>\n      <th>pixel12</th>\n      <th>pixel13</th>\n      <th>pixel14</th>\n      <th>pixel15</th>\n      <th>pixel16</th>\n      <th>pixel17</th>\n      <th>pixel18</th>\n      <th>pixel19</th>\n      <th>pixel20</th>\n      <th>pixel21</th>\n      <th>pixel22</th>\n      <th>pixel23</th>\n      <th>pixel24</th>\n      <th>pixel25</th>\n      <th>pixel26</th>\n      <th>pixel27</th>\n      <th>pixel28</th>\n      <th>pixel29</th>\n      <th>pixel30</th>\n      <th>pixel31</th>\n      <th>pixel32</th>\n      <th>pixel33</th>\n      <th>pixel34</th>\n      <th>pixel35</th>\n      <th>pixel36</th>\n      <th>pixel37</th>\n      <th>pixel38</th>\n      <th>...</th>\n      <th>pixel744</th>\n      <th>pixel745</th>\n      <th>pixel746</th>\n      <th>pixel747</th>\n      <th>pixel748</th>\n      <th>pixel749</th>\n      <th>pixel750</th>\n      <th>pixel751</th>\n      <th>pixel752</th>\n      <th>pixel753</th>\n      <th>pixel754</th>\n      <th>pixel755</th>\n      <th>pixel756</th>\n      <th>pixel757</th>\n      <th>pixel758</th>\n      <th>pixel759</th>\n      <th>pixel760</th>\n      <th>pixel761</th>\n      <th>pixel762</th>\n      <th>pixel763</th>\n      <th>pixel764</th>\n      <th>pixel765</th>\n      <th>pixel766</th>\n      <th>pixel767</th>\n      <th>pixel768</th>\n      <th>pixel769</th>\n      <th>pixel770</th>\n      <th>pixel771</th>\n      <th>pixel772</th>\n      <th>pixel773</th>\n      <th>pixel774</th>\n      <th>pixel775</th>\n      <th>pixel776</th>\n      <th>pixel777</th>\n      <th>pixel778</th>\n      <th>pixel779</th>\n      <th>pixel780</th>\n      <th>pixel781</th>\n      <th>pixel782</th>\n      <th>pixel783</th>\n    </tr>\n  </thead>\n  <tbody>\n    <tr>\n      <th>0</th>\n      <td>1</td>\n      <td>0</td>\n      <td>0</td>\n      <td>0</td>\n      <td>0</td>\n      <td>0</td>\n      <td>0</td>\n      <td>0</td>\n      <td>0</td>\n      <td>0</td>\n      <td>0</td>\n      <td>0</td>\n      <td>0</td>\n      <td>0</td>\n      <td>0</td>\n      <td>0</td>\n      <td>0</td>\n      <td>0</td>\n      <td>0</td>\n      <td>0</td>\n      <td>0</td>\n      <td>0</td>\n      <td>0</td>\n      <td>0</td>\n      <td>0</td>\n      <td>0</td>\n      <td>0</td>\n      <td>0</td>\n      <td>0</td>\n      <td>0</td>\n      <td>0</td>\n      <td>0</td>\n      <td>0</td>\n      <td>0</td>\n      <td>0</td>\n      <td>0</td>\n      <td>0</td>\n      <td>0</td>\n      <td>0</td>\n      <td>0</td>\n      <td>...</td>\n      <td>0</td>\n      <td>0</td>\n      <td>0</td>\n      <td>0</td>\n      <td>0</td>\n      <td>0</td>\n      <td>0</td>\n      <td>0</td>\n      <td>0</td>\n      <td>0</td>\n      <td>0</td>\n      <td>0</td>\n      <td>0</td>\n      <td>0</td>\n      <td>0</td>\n      <td>0</td>\n      <td>0</td>\n      <td>0</td>\n      <td>0</td>\n      <td>0</td>\n      <td>0</td>\n      <td>0</td>\n      <td>0</td>\n      <td>0</td>\n      <td>0</td>\n      <td>0</td>\n      <td>0</td>\n      <td>0</td>\n      <td>0</td>\n      <td>0</td>\n      <td>0</td>\n      <td>0</td>\n      <td>0</td>\n      <td>0</td>\n      <td>0</td>\n      <td>0</td>\n      <td>0</td>\n      <td>0</td>\n      <td>0</td>\n      <td>0</td>\n    </tr>\n    <tr>\n      <th>1</th>\n      <td>0</td>\n      <td>0</td>\n      <td>0</td>\n      <td>0</td>\n      <td>0</td>\n      <td>0</td>\n      <td>0</td>\n      <td>0</td>\n      <td>0</td>\n      <td>0</td>\n      <td>0</td>\n      <td>0</td>\n      <td>0</td>\n      <td>0</td>\n      <td>0</td>\n      <td>0</td>\n      <td>0</td>\n      <td>0</td>\n      <td>0</td>\n      <td>0</td>\n      <td>0</td>\n      <td>0</td>\n      <td>0</td>\n      <td>0</td>\n      <td>0</td>\n      <td>0</td>\n      <td>0</td>\n      <td>0</td>\n      <td>0</td>\n      <td>0</td>\n      <td>0</td>\n      <td>0</td>\n      <td>0</td>\n      <td>0</td>\n      <td>0</td>\n      <td>0</td>\n      <td>0</td>\n      <td>0</td>\n      <td>0</td>\n      <td>0</td>\n      <td>...</td>\n      <td>0</td>\n      <td>0</td>\n      <td>0</td>\n      <td>0</td>\n      <td>0</td>\n      <td>0</td>\n      <td>0</td>\n      <td>0</td>\n      <td>0</td>\n      <td>0</td>\n      <td>0</td>\n      <td>0</td>\n      <td>0</td>\n      <td>0</td>\n      <td>0</td>\n      <td>0</td>\n      <td>0</td>\n      <td>0</td>\n      <td>0</td>\n      <td>0</td>\n      <td>0</td>\n      <td>0</td>\n      <td>0</td>\n      <td>0</td>\n      <td>0</td>\n      <td>0</td>\n      <td>0</td>\n      <td>0</td>\n      <td>0</td>\n      <td>0</td>\n      <td>0</td>\n      <td>0</td>\n      <td>0</td>\n      <td>0</td>\n      <td>0</td>\n      <td>0</td>\n      <td>0</td>\n      <td>0</td>\n      <td>0</td>\n      <td>0</td>\n    </tr>\n    <tr>\n      <th>2</th>\n      <td>1</td>\n      <td>0</td>\n      <td>0</td>\n      <td>0</td>\n      <td>0</td>\n      <td>0</td>\n      <td>0</td>\n      <td>0</td>\n      <td>0</td>\n      <td>0</td>\n      <td>0</td>\n      <td>0</td>\n      <td>0</td>\n      <td>0</td>\n      <td>0</td>\n      <td>0</td>\n      <td>0</td>\n      <td>0</td>\n      <td>0</td>\n      <td>0</td>\n      <td>0</td>\n      <td>0</td>\n      <td>0</td>\n      <td>0</td>\n      <td>0</td>\n      <td>0</td>\n      <td>0</td>\n      <td>0</td>\n      <td>0</td>\n      <td>0</td>\n      <td>0</td>\n      <td>0</td>\n      <td>0</td>\n      <td>0</td>\n      <td>0</td>\n      <td>0</td>\n      <td>0</td>\n      <td>0</td>\n      <td>0</td>\n      <td>0</td>\n      <td>...</td>\n      <td>0</td>\n      <td>0</td>\n      <td>0</td>\n      <td>0</td>\n      <td>0</td>\n      <td>0</td>\n      <td>0</td>\n      <td>0</td>\n      <td>0</td>\n      <td>0</td>\n      <td>0</td>\n      <td>0</td>\n      <td>0</td>\n      <td>0</td>\n      <td>0</td>\n      <td>0</td>\n      <td>0</td>\n      <td>0</td>\n      <td>0</td>\n      <td>0</td>\n      <td>0</td>\n      <td>0</td>\n      <td>0</td>\n      <td>0</td>\n      <td>0</td>\n      <td>0</td>\n      <td>0</td>\n      <td>0</td>\n      <td>0</td>\n      <td>0</td>\n      <td>0</td>\n      <td>0</td>\n      <td>0</td>\n      <td>0</td>\n      <td>0</td>\n      <td>0</td>\n      <td>0</td>\n      <td>0</td>\n      <td>0</td>\n      <td>0</td>\n    </tr>\n    <tr>\n      <th>3</th>\n      <td>4</td>\n      <td>0</td>\n      <td>0</td>\n      <td>0</td>\n      <td>0</td>\n      <td>0</td>\n      <td>0</td>\n      <td>0</td>\n      <td>0</td>\n      <td>0</td>\n      <td>0</td>\n      <td>0</td>\n      <td>0</td>\n      <td>0</td>\n      <td>0</td>\n      <td>0</td>\n      <td>0</td>\n      <td>0</td>\n      <td>0</td>\n      <td>0</td>\n      <td>0</td>\n      <td>0</td>\n      <td>0</td>\n      <td>0</td>\n      <td>0</td>\n      <td>0</td>\n      <td>0</td>\n      <td>0</td>\n      <td>0</td>\n      <td>0</td>\n      <td>0</td>\n      <td>0</td>\n      <td>0</td>\n      <td>0</td>\n      <td>0</td>\n      <td>0</td>\n      <td>0</td>\n      <td>0</td>\n      <td>0</td>\n      <td>0</td>\n      <td>...</td>\n      <td>0</td>\n      <td>0</td>\n      <td>0</td>\n      <td>0</td>\n      <td>0</td>\n      <td>0</td>\n      <td>0</td>\n      <td>0</td>\n      <td>0</td>\n      <td>0</td>\n      <td>0</td>\n      <td>0</td>\n      <td>0</td>\n      <td>0</td>\n      <td>0</td>\n      <td>0</td>\n      <td>0</td>\n      <td>0</td>\n      <td>0</td>\n      <td>0</td>\n      <td>0</td>\n      <td>0</td>\n      <td>0</td>\n      <td>0</td>\n      <td>0</td>\n      <td>0</td>\n      <td>0</td>\n      <td>0</td>\n      <td>0</td>\n      <td>0</td>\n      <td>0</td>\n      <td>0</td>\n      <td>0</td>\n      <td>0</td>\n      <td>0</td>\n      <td>0</td>\n      <td>0</td>\n      <td>0</td>\n      <td>0</td>\n      <td>0</td>\n    </tr>\n    <tr>\n      <th>4</th>\n      <td>0</td>\n      <td>0</td>\n      <td>0</td>\n      <td>0</td>\n      <td>0</td>\n      <td>0</td>\n      <td>0</td>\n      <td>0</td>\n      <td>0</td>\n      <td>0</td>\n      <td>0</td>\n      <td>0</td>\n      <td>0</td>\n      <td>0</td>\n      <td>0</td>\n      <td>0</td>\n      <td>0</td>\n      <td>0</td>\n      <td>0</td>\n      <td>0</td>\n      <td>0</td>\n      <td>0</td>\n      <td>0</td>\n      <td>0</td>\n      <td>0</td>\n      <td>0</td>\n      <td>0</td>\n      <td>0</td>\n      <td>0</td>\n      <td>0</td>\n      <td>0</td>\n      <td>0</td>\n      <td>0</td>\n      <td>0</td>\n      <td>0</td>\n      <td>0</td>\n      <td>0</td>\n      <td>0</td>\n      <td>0</td>\n      <td>0</td>\n      <td>...</td>\n      <td>0</td>\n      <td>0</td>\n      <td>0</td>\n      <td>0</td>\n      <td>0</td>\n      <td>0</td>\n      <td>0</td>\n      <td>0</td>\n      <td>0</td>\n      <td>0</td>\n      <td>0</td>\n      <td>0</td>\n      <td>0</td>\n      <td>0</td>\n      <td>0</td>\n      <td>0</td>\n      <td>0</td>\n      <td>0</td>\n      <td>0</td>\n      <td>0</td>\n      <td>0</td>\n      <td>0</td>\n      <td>0</td>\n      <td>0</td>\n      <td>0</td>\n      <td>0</td>\n      <td>0</td>\n      <td>0</td>\n      <td>0</td>\n      <td>0</td>\n      <td>0</td>\n      <td>0</td>\n      <td>0</td>\n      <td>0</td>\n      <td>0</td>\n      <td>0</td>\n      <td>0</td>\n      <td>0</td>\n      <td>0</td>\n      <td>0</td>\n    </tr>\n  </tbody>\n</table>\n</div>"
          },
          "metadata": {}
        }
      ]
    },
    {
      "metadata": {
        "trusted": true,
        "_uuid": "a19538f18fa42b71a09faf9a4b718b4e1657e43b"
      },
      "cell_type": "code",
      "source": "train.describe()",
      "execution_count": 121,
      "outputs": [
        {
          "output_type": "execute_result",
          "execution_count": 121,
          "data": {
            "text/plain": "              label   pixel0   pixel1    ...     pixel781  pixel782  pixel783\ncount  42000.000000  42000.0  42000.0    ...      42000.0   42000.0   42000.0\nmean       4.456643      0.0      0.0    ...          0.0       0.0       0.0\nstd        2.887730      0.0      0.0    ...          0.0       0.0       0.0\nmin        0.000000      0.0      0.0    ...          0.0       0.0       0.0\n25%        2.000000      0.0      0.0    ...          0.0       0.0       0.0\n50%        4.000000      0.0      0.0    ...          0.0       0.0       0.0\n75%        7.000000      0.0      0.0    ...          0.0       0.0       0.0\nmax        9.000000      0.0      0.0    ...          0.0       0.0       0.0\n\n[8 rows x 785 columns]",
            "text/html": "<div>\n<style scoped>\n    .dataframe tbody tr th:only-of-type {\n        vertical-align: middle;\n    }\n\n    .dataframe tbody tr th {\n        vertical-align: top;\n    }\n\n    .dataframe thead th {\n        text-align: right;\n    }\n</style>\n<table border=\"1\" class=\"dataframe\">\n  <thead>\n    <tr style=\"text-align: right;\">\n      <th></th>\n      <th>label</th>\n      <th>pixel0</th>\n      <th>pixel1</th>\n      <th>pixel2</th>\n      <th>pixel3</th>\n      <th>pixel4</th>\n      <th>pixel5</th>\n      <th>pixel6</th>\n      <th>pixel7</th>\n      <th>pixel8</th>\n      <th>pixel9</th>\n      <th>pixel10</th>\n      <th>pixel11</th>\n      <th>pixel12</th>\n      <th>pixel13</th>\n      <th>pixel14</th>\n      <th>pixel15</th>\n      <th>pixel16</th>\n      <th>pixel17</th>\n      <th>pixel18</th>\n      <th>pixel19</th>\n      <th>pixel20</th>\n      <th>pixel21</th>\n      <th>pixel22</th>\n      <th>pixel23</th>\n      <th>pixel24</th>\n      <th>pixel25</th>\n      <th>pixel26</th>\n      <th>pixel27</th>\n      <th>pixel28</th>\n      <th>pixel29</th>\n      <th>pixel30</th>\n      <th>pixel31</th>\n      <th>pixel32</th>\n      <th>pixel33</th>\n      <th>pixel34</th>\n      <th>pixel35</th>\n      <th>pixel36</th>\n      <th>pixel37</th>\n      <th>pixel38</th>\n      <th>...</th>\n      <th>pixel744</th>\n      <th>pixel745</th>\n      <th>pixel746</th>\n      <th>pixel747</th>\n      <th>pixel748</th>\n      <th>pixel749</th>\n      <th>pixel750</th>\n      <th>pixel751</th>\n      <th>pixel752</th>\n      <th>pixel753</th>\n      <th>pixel754</th>\n      <th>pixel755</th>\n      <th>pixel756</th>\n      <th>pixel757</th>\n      <th>pixel758</th>\n      <th>pixel759</th>\n      <th>pixel760</th>\n      <th>pixel761</th>\n      <th>pixel762</th>\n      <th>pixel763</th>\n      <th>pixel764</th>\n      <th>pixel765</th>\n      <th>pixel766</th>\n      <th>pixel767</th>\n      <th>pixel768</th>\n      <th>pixel769</th>\n      <th>pixel770</th>\n      <th>pixel771</th>\n      <th>pixel772</th>\n      <th>pixel773</th>\n      <th>pixel774</th>\n      <th>pixel775</th>\n      <th>pixel776</th>\n      <th>pixel777</th>\n      <th>pixel778</th>\n      <th>pixel779</th>\n      <th>pixel780</th>\n      <th>pixel781</th>\n      <th>pixel782</th>\n      <th>pixel783</th>\n    </tr>\n  </thead>\n  <tbody>\n    <tr>\n      <th>count</th>\n      <td>42000.000000</td>\n      <td>42000.0</td>\n      <td>42000.0</td>\n      <td>42000.0</td>\n      <td>42000.0</td>\n      <td>42000.0</td>\n      <td>42000.0</td>\n      <td>42000.0</td>\n      <td>42000.0</td>\n      <td>42000.0</td>\n      <td>42000.0</td>\n      <td>42000.0</td>\n      <td>42000.0</td>\n      <td>42000.00000</td>\n      <td>42000.000000</td>\n      <td>42000.000000</td>\n      <td>42000.000000</td>\n      <td>42000.0</td>\n      <td>42000.0</td>\n      <td>42000.0</td>\n      <td>42000.0</td>\n      <td>42000.0</td>\n      <td>42000.0</td>\n      <td>42000.0</td>\n      <td>42000.0</td>\n      <td>42000.0</td>\n      <td>42000.0</td>\n      <td>42000.0</td>\n      <td>42000.0</td>\n      <td>42000.0</td>\n      <td>42000.0</td>\n      <td>42000.0</td>\n      <td>42000.0</td>\n      <td>42000.000000</td>\n      <td>42000.000000</td>\n      <td>42000.000000</td>\n      <td>42000.000000</td>\n      <td>42000.000000</td>\n      <td>42000.000000</td>\n      <td>42000.000000</td>\n      <td>...</td>\n      <td>42000.000000</td>\n      <td>42000.000000</td>\n      <td>42000.000000</td>\n      <td>42000.000000</td>\n      <td>42000.000000</td>\n      <td>42000.000000</td>\n      <td>42000.000000</td>\n      <td>42000.000000</td>\n      <td>42000.000000</td>\n      <td>42000.000000</td>\n      <td>42000.0</td>\n      <td>42000.0</td>\n      <td>42000.0</td>\n      <td>42000.0</td>\n      <td>42000.0</td>\n      <td>42000.0</td>\n      <td>42000.0</td>\n      <td>42000.000000</td>\n      <td>42000.000000</td>\n      <td>42000.000000</td>\n      <td>42000.000000</td>\n      <td>42000.000000</td>\n      <td>42000.000000</td>\n      <td>42000.000000</td>\n      <td>42000.000000</td>\n      <td>42000.000000</td>\n      <td>42000.000000</td>\n      <td>42000.00000</td>\n      <td>42000.000000</td>\n      <td>42000.000000</td>\n      <td>42000.000000</td>\n      <td>42000.000000</td>\n      <td>42000.000000</td>\n      <td>42000.00000</td>\n      <td>42000.000000</td>\n      <td>42000.000000</td>\n      <td>42000.0</td>\n      <td>42000.0</td>\n      <td>42000.0</td>\n      <td>42000.0</td>\n    </tr>\n    <tr>\n      <th>mean</th>\n      <td>4.456643</td>\n      <td>0.0</td>\n      <td>0.0</td>\n      <td>0.0</td>\n      <td>0.0</td>\n      <td>0.0</td>\n      <td>0.0</td>\n      <td>0.0</td>\n      <td>0.0</td>\n      <td>0.0</td>\n      <td>0.0</td>\n      <td>0.0</td>\n      <td>0.0</td>\n      <td>0.00300</td>\n      <td>0.011190</td>\n      <td>0.005143</td>\n      <td>0.000214</td>\n      <td>0.0</td>\n      <td>0.0</td>\n      <td>0.0</td>\n      <td>0.0</td>\n      <td>0.0</td>\n      <td>0.0</td>\n      <td>0.0</td>\n      <td>0.0</td>\n      <td>0.0</td>\n      <td>0.0</td>\n      <td>0.0</td>\n      <td>0.0</td>\n      <td>0.0</td>\n      <td>0.0</td>\n      <td>0.0</td>\n      <td>0.0</td>\n      <td>0.000381</td>\n      <td>0.001310</td>\n      <td>0.010548</td>\n      <td>0.027262</td>\n      <td>0.050905</td>\n      <td>0.066405</td>\n      <td>0.129571</td>\n      <td>...</td>\n      <td>3.772524</td>\n      <td>2.748905</td>\n      <td>1.796452</td>\n      <td>1.089905</td>\n      <td>0.563190</td>\n      <td>0.239571</td>\n      <td>0.093524</td>\n      <td>0.024833</td>\n      <td>0.000857</td>\n      <td>0.001405</td>\n      <td>0.0</td>\n      <td>0.0</td>\n      <td>0.0</td>\n      <td>0.0</td>\n      <td>0.0</td>\n      <td>0.0</td>\n      <td>0.0</td>\n      <td>0.006143</td>\n      <td>0.035833</td>\n      <td>0.082357</td>\n      <td>0.114905</td>\n      <td>0.178714</td>\n      <td>0.301452</td>\n      <td>0.413643</td>\n      <td>0.513667</td>\n      <td>0.558833</td>\n      <td>0.677857</td>\n      <td>0.60281</td>\n      <td>0.489238</td>\n      <td>0.340214</td>\n      <td>0.219286</td>\n      <td>0.117095</td>\n      <td>0.059024</td>\n      <td>0.02019</td>\n      <td>0.017238</td>\n      <td>0.002857</td>\n      <td>0.0</td>\n      <td>0.0</td>\n      <td>0.0</td>\n      <td>0.0</td>\n    </tr>\n    <tr>\n      <th>std</th>\n      <td>2.887730</td>\n      <td>0.0</td>\n      <td>0.0</td>\n      <td>0.0</td>\n      <td>0.0</td>\n      <td>0.0</td>\n      <td>0.0</td>\n      <td>0.0</td>\n      <td>0.0</td>\n      <td>0.0</td>\n      <td>0.0</td>\n      <td>0.0</td>\n      <td>0.0</td>\n      <td>0.56812</td>\n      <td>1.626927</td>\n      <td>1.053972</td>\n      <td>0.043916</td>\n      <td>0.0</td>\n      <td>0.0</td>\n      <td>0.0</td>\n      <td>0.0</td>\n      <td>0.0</td>\n      <td>0.0</td>\n      <td>0.0</td>\n      <td>0.0</td>\n      <td>0.0</td>\n      <td>0.0</td>\n      <td>0.0</td>\n      <td>0.0</td>\n      <td>0.0</td>\n      <td>0.0</td>\n      <td>0.0</td>\n      <td>0.0</td>\n      <td>0.078072</td>\n      <td>0.232634</td>\n      <td>1.131661</td>\n      <td>2.310396</td>\n      <td>3.121847</td>\n      <td>3.259128</td>\n      <td>4.992894</td>\n      <td>...</td>\n      <td>26.957829</td>\n      <td>22.879248</td>\n      <td>18.595109</td>\n      <td>14.434439</td>\n      <td>10.517823</td>\n      <td>6.469315</td>\n      <td>3.976306</td>\n      <td>1.846016</td>\n      <td>0.139556</td>\n      <td>0.287891</td>\n      <td>0.0</td>\n      <td>0.0</td>\n      <td>0.0</td>\n      <td>0.0</td>\n      <td>0.0</td>\n      <td>0.0</td>\n      <td>0.0</td>\n      <td>0.949803</td>\n      <td>2.350859</td>\n      <td>3.934280</td>\n      <td>4.543583</td>\n      <td>5.856772</td>\n      <td>7.219742</td>\n      <td>8.928286</td>\n      <td>10.004069</td>\n      <td>10.129595</td>\n      <td>11.254931</td>\n      <td>10.69603</td>\n      <td>9.480066</td>\n      <td>7.950251</td>\n      <td>6.312890</td>\n      <td>4.633819</td>\n      <td>3.274488</td>\n      <td>1.75987</td>\n      <td>1.894498</td>\n      <td>0.414264</td>\n      <td>0.0</td>\n      <td>0.0</td>\n      <td>0.0</td>\n      <td>0.0</td>\n    </tr>\n    <tr>\n      <th>min</th>\n      <td>0.000000</td>\n      <td>0.0</td>\n      <td>0.0</td>\n      <td>0.0</td>\n      <td>0.0</td>\n      <td>0.0</td>\n      <td>0.0</td>\n      <td>0.0</td>\n      <td>0.0</td>\n      <td>0.0</td>\n      <td>0.0</td>\n      <td>0.0</td>\n      <td>0.0</td>\n      <td>0.00000</td>\n      <td>0.000000</td>\n      <td>0.000000</td>\n      <td>0.000000</td>\n      <td>0.0</td>\n      <td>0.0</td>\n      <td>0.0</td>\n      <td>0.0</td>\n      <td>0.0</td>\n      <td>0.0</td>\n      <td>0.0</td>\n      <td>0.0</td>\n      <td>0.0</td>\n      <td>0.0</td>\n      <td>0.0</td>\n      <td>0.0</td>\n      <td>0.0</td>\n      <td>0.0</td>\n      <td>0.0</td>\n      <td>0.0</td>\n      <td>0.000000</td>\n      <td>0.000000</td>\n      <td>0.000000</td>\n      <td>0.000000</td>\n      <td>0.000000</td>\n      <td>0.000000</td>\n      <td>0.000000</td>\n      <td>...</td>\n      <td>0.000000</td>\n      <td>0.000000</td>\n      <td>0.000000</td>\n      <td>0.000000</td>\n      <td>0.000000</td>\n      <td>0.000000</td>\n      <td>0.000000</td>\n      <td>0.000000</td>\n      <td>0.000000</td>\n      <td>0.000000</td>\n      <td>0.0</td>\n      <td>0.0</td>\n      <td>0.0</td>\n      <td>0.0</td>\n      <td>0.0</td>\n      <td>0.0</td>\n      <td>0.0</td>\n      <td>0.000000</td>\n      <td>0.000000</td>\n      <td>0.000000</td>\n      <td>0.000000</td>\n      <td>0.000000</td>\n      <td>0.000000</td>\n      <td>0.000000</td>\n      <td>0.000000</td>\n      <td>0.000000</td>\n      <td>0.000000</td>\n      <td>0.00000</td>\n      <td>0.000000</td>\n      <td>0.000000</td>\n      <td>0.000000</td>\n      <td>0.000000</td>\n      <td>0.000000</td>\n      <td>0.00000</td>\n      <td>0.000000</td>\n      <td>0.000000</td>\n      <td>0.0</td>\n      <td>0.0</td>\n      <td>0.0</td>\n      <td>0.0</td>\n    </tr>\n    <tr>\n      <th>25%</th>\n      <td>2.000000</td>\n      <td>0.0</td>\n      <td>0.0</td>\n      <td>0.0</td>\n      <td>0.0</td>\n      <td>0.0</td>\n      <td>0.0</td>\n      <td>0.0</td>\n      <td>0.0</td>\n      <td>0.0</td>\n      <td>0.0</td>\n      <td>0.0</td>\n      <td>0.0</td>\n      <td>0.00000</td>\n      <td>0.000000</td>\n      <td>0.000000</td>\n      <td>0.000000</td>\n      <td>0.0</td>\n      <td>0.0</td>\n      <td>0.0</td>\n      <td>0.0</td>\n      <td>0.0</td>\n      <td>0.0</td>\n      <td>0.0</td>\n      <td>0.0</td>\n      <td>0.0</td>\n      <td>0.0</td>\n      <td>0.0</td>\n      <td>0.0</td>\n      <td>0.0</td>\n      <td>0.0</td>\n      <td>0.0</td>\n      <td>0.0</td>\n      <td>0.000000</td>\n      <td>0.000000</td>\n      <td>0.000000</td>\n      <td>0.000000</td>\n      <td>0.000000</td>\n      <td>0.000000</td>\n      <td>0.000000</td>\n      <td>...</td>\n      <td>0.000000</td>\n      <td>0.000000</td>\n      <td>0.000000</td>\n      <td>0.000000</td>\n      <td>0.000000</td>\n      <td>0.000000</td>\n      <td>0.000000</td>\n      <td>0.000000</td>\n      <td>0.000000</td>\n      <td>0.000000</td>\n      <td>0.0</td>\n      <td>0.0</td>\n      <td>0.0</td>\n      <td>0.0</td>\n      <td>0.0</td>\n      <td>0.0</td>\n      <td>0.0</td>\n      <td>0.000000</td>\n      <td>0.000000</td>\n      <td>0.000000</td>\n      <td>0.000000</td>\n      <td>0.000000</td>\n      <td>0.000000</td>\n      <td>0.000000</td>\n      <td>0.000000</td>\n      <td>0.000000</td>\n      <td>0.000000</td>\n      <td>0.00000</td>\n      <td>0.000000</td>\n      <td>0.000000</td>\n      <td>0.000000</td>\n      <td>0.000000</td>\n      <td>0.000000</td>\n      <td>0.00000</td>\n      <td>0.000000</td>\n      <td>0.000000</td>\n      <td>0.0</td>\n      <td>0.0</td>\n      <td>0.0</td>\n      <td>0.0</td>\n    </tr>\n    <tr>\n      <th>50%</th>\n      <td>4.000000</td>\n      <td>0.0</td>\n      <td>0.0</td>\n      <td>0.0</td>\n      <td>0.0</td>\n      <td>0.0</td>\n      <td>0.0</td>\n      <td>0.0</td>\n      <td>0.0</td>\n      <td>0.0</td>\n      <td>0.0</td>\n      <td>0.0</td>\n      <td>0.0</td>\n      <td>0.00000</td>\n      <td>0.000000</td>\n      <td>0.000000</td>\n      <td>0.000000</td>\n      <td>0.0</td>\n      <td>0.0</td>\n      <td>0.0</td>\n      <td>0.0</td>\n      <td>0.0</td>\n      <td>0.0</td>\n      <td>0.0</td>\n      <td>0.0</td>\n      <td>0.0</td>\n      <td>0.0</td>\n      <td>0.0</td>\n      <td>0.0</td>\n      <td>0.0</td>\n      <td>0.0</td>\n      <td>0.0</td>\n      <td>0.0</td>\n      <td>0.000000</td>\n      <td>0.000000</td>\n      <td>0.000000</td>\n      <td>0.000000</td>\n      <td>0.000000</td>\n      <td>0.000000</td>\n      <td>0.000000</td>\n      <td>...</td>\n      <td>0.000000</td>\n      <td>0.000000</td>\n      <td>0.000000</td>\n      <td>0.000000</td>\n      <td>0.000000</td>\n      <td>0.000000</td>\n      <td>0.000000</td>\n      <td>0.000000</td>\n      <td>0.000000</td>\n      <td>0.000000</td>\n      <td>0.0</td>\n      <td>0.0</td>\n      <td>0.0</td>\n      <td>0.0</td>\n      <td>0.0</td>\n      <td>0.0</td>\n      <td>0.0</td>\n      <td>0.000000</td>\n      <td>0.000000</td>\n      <td>0.000000</td>\n      <td>0.000000</td>\n      <td>0.000000</td>\n      <td>0.000000</td>\n      <td>0.000000</td>\n      <td>0.000000</td>\n      <td>0.000000</td>\n      <td>0.000000</td>\n      <td>0.00000</td>\n      <td>0.000000</td>\n      <td>0.000000</td>\n      <td>0.000000</td>\n      <td>0.000000</td>\n      <td>0.000000</td>\n      <td>0.00000</td>\n      <td>0.000000</td>\n      <td>0.000000</td>\n      <td>0.0</td>\n      <td>0.0</td>\n      <td>0.0</td>\n      <td>0.0</td>\n    </tr>\n    <tr>\n      <th>75%</th>\n      <td>7.000000</td>\n      <td>0.0</td>\n      <td>0.0</td>\n      <td>0.0</td>\n      <td>0.0</td>\n      <td>0.0</td>\n      <td>0.0</td>\n      <td>0.0</td>\n      <td>0.0</td>\n      <td>0.0</td>\n      <td>0.0</td>\n      <td>0.0</td>\n      <td>0.0</td>\n      <td>0.00000</td>\n      <td>0.000000</td>\n      <td>0.000000</td>\n      <td>0.000000</td>\n      <td>0.0</td>\n      <td>0.0</td>\n      <td>0.0</td>\n      <td>0.0</td>\n      <td>0.0</td>\n      <td>0.0</td>\n      <td>0.0</td>\n      <td>0.0</td>\n      <td>0.0</td>\n      <td>0.0</td>\n      <td>0.0</td>\n      <td>0.0</td>\n      <td>0.0</td>\n      <td>0.0</td>\n      <td>0.0</td>\n      <td>0.0</td>\n      <td>0.000000</td>\n      <td>0.000000</td>\n      <td>0.000000</td>\n      <td>0.000000</td>\n      <td>0.000000</td>\n      <td>0.000000</td>\n      <td>0.000000</td>\n      <td>...</td>\n      <td>0.000000</td>\n      <td>0.000000</td>\n      <td>0.000000</td>\n      <td>0.000000</td>\n      <td>0.000000</td>\n      <td>0.000000</td>\n      <td>0.000000</td>\n      <td>0.000000</td>\n      <td>0.000000</td>\n      <td>0.000000</td>\n      <td>0.0</td>\n      <td>0.0</td>\n      <td>0.0</td>\n      <td>0.0</td>\n      <td>0.0</td>\n      <td>0.0</td>\n      <td>0.0</td>\n      <td>0.000000</td>\n      <td>0.000000</td>\n      <td>0.000000</td>\n      <td>0.000000</td>\n      <td>0.000000</td>\n      <td>0.000000</td>\n      <td>0.000000</td>\n      <td>0.000000</td>\n      <td>0.000000</td>\n      <td>0.000000</td>\n      <td>0.00000</td>\n      <td>0.000000</td>\n      <td>0.000000</td>\n      <td>0.000000</td>\n      <td>0.000000</td>\n      <td>0.000000</td>\n      <td>0.00000</td>\n      <td>0.000000</td>\n      <td>0.000000</td>\n      <td>0.0</td>\n      <td>0.0</td>\n      <td>0.0</td>\n      <td>0.0</td>\n    </tr>\n    <tr>\n      <th>max</th>\n      <td>9.000000</td>\n      <td>0.0</td>\n      <td>0.0</td>\n      <td>0.0</td>\n      <td>0.0</td>\n      <td>0.0</td>\n      <td>0.0</td>\n      <td>0.0</td>\n      <td>0.0</td>\n      <td>0.0</td>\n      <td>0.0</td>\n      <td>0.0</td>\n      <td>0.0</td>\n      <td>116.00000</td>\n      <td>254.000000</td>\n      <td>216.000000</td>\n      <td>9.000000</td>\n      <td>0.0</td>\n      <td>0.0</td>\n      <td>0.0</td>\n      <td>0.0</td>\n      <td>0.0</td>\n      <td>0.0</td>\n      <td>0.0</td>\n      <td>0.0</td>\n      <td>0.0</td>\n      <td>0.0</td>\n      <td>0.0</td>\n      <td>0.0</td>\n      <td>0.0</td>\n      <td>0.0</td>\n      <td>0.0</td>\n      <td>0.0</td>\n      <td>16.000000</td>\n      <td>47.000000</td>\n      <td>157.000000</td>\n      <td>254.000000</td>\n      <td>255.000000</td>\n      <td>243.000000</td>\n      <td>255.000000</td>\n      <td>...</td>\n      <td>255.000000</td>\n      <td>255.000000</td>\n      <td>255.000000</td>\n      <td>255.000000</td>\n      <td>255.000000</td>\n      <td>255.000000</td>\n      <td>255.000000</td>\n      <td>253.000000</td>\n      <td>28.000000</td>\n      <td>59.000000</td>\n      <td>0.0</td>\n      <td>0.0</td>\n      <td>0.0</td>\n      <td>0.0</td>\n      <td>0.0</td>\n      <td>0.0</td>\n      <td>0.0</td>\n      <td>177.000000</td>\n      <td>231.000000</td>\n      <td>253.000000</td>\n      <td>254.000000</td>\n      <td>254.000000</td>\n      <td>255.000000</td>\n      <td>255.000000</td>\n      <td>255.000000</td>\n      <td>255.000000</td>\n      <td>255.000000</td>\n      <td>255.00000</td>\n      <td>255.000000</td>\n      <td>255.000000</td>\n      <td>254.000000</td>\n      <td>254.000000</td>\n      <td>253.000000</td>\n      <td>253.00000</td>\n      <td>254.000000</td>\n      <td>62.000000</td>\n      <td>0.0</td>\n      <td>0.0</td>\n      <td>0.0</td>\n      <td>0.0</td>\n    </tr>\n  </tbody>\n</table>\n</div>"
          },
          "metadata": {}
        }
      ]
    },
    {
      "metadata": {
        "_uuid": "1506d04792eafaee1a3004964694193a003bb9a0"
      },
      "cell_type": "markdown",
      "source": "**The Target Variable y**"
    },
    {
      "metadata": {
        "trusted": true,
        "_uuid": "cf43d5e6b45d7ddda01e5fddd47df5a025c4e249"
      },
      "cell_type": "code",
      "source": "y = train.label",
      "execution_count": 122,
      "outputs": []
    },
    {
      "metadata": {
        "trusted": true,
        "_uuid": "bed8b023ba97ec811b0730fd79f839d85868eb8d"
      },
      "cell_type": "code",
      "source": "train.shape",
      "execution_count": 123,
      "outputs": [
        {
          "output_type": "execute_result",
          "execution_count": 123,
          "data": {
            "text/plain": "(42000, 785)"
          },
          "metadata": {}
        }
      ]
    },
    {
      "metadata": {
        "_uuid": "bccea67c0b7b14b2825f7d20ca972502736ed428"
      },
      "cell_type": "markdown",
      "source": "**Normalizing the Inputs**"
    },
    {
      "metadata": {
        "trusted": true,
        "_uuid": "f7978cfed3130123324051dc960558afd759ff7d"
      },
      "cell_type": "code",
      "source": "X = np.array(train.iloc[:, 1:])/255\ny = np.array(y).reshape(-1, 1)\n# one hot encode labels:\nfrom keras.utils import to_categorical\ny = to_categorical(y)",
      "execution_count": 124,
      "outputs": []
    },
    {
      "metadata": {
        "_uuid": "e52a0c0d41e0c2d88801b1467e45af0e8b49fce7"
      },
      "cell_type": "markdown",
      "source": "**Normalizing the Test Set**"
    },
    {
      "metadata": {
        "trusted": true,
        "_uuid": "9027f98061776aaa3d7900fe9f7abc9d236a311c"
      },
      "cell_type": "code",
      "source": "test = np.array(test/255)",
      "execution_count": 125,
      "outputs": []
    },
    {
      "metadata": {
        "trusted": true,
        "_uuid": "6d558762ec74cbd4a1c94e1b85414824d5068cc2"
      },
      "cell_type": "code",
      "source": "test.shape",
      "execution_count": 126,
      "outputs": [
        {
          "output_type": "execute_result",
          "execution_count": 126,
          "data": {
            "text/plain": "(28000, 784)"
          },
          "metadata": {}
        }
      ]
    },
    {
      "metadata": {
        "_uuid": "349a5d6793381719b9e9bbe013644749d346aa93"
      },
      "cell_type": "markdown",
      "source": "**Using Keras Framework**"
    },
    {
      "metadata": {
        "trusted": true,
        "_uuid": "55c2c1fe5427795eb3f3a175440c1d28b0998b76"
      },
      "cell_type": "code",
      "source": "from keras.layers import Dense,Dropout\nfrom keras.models import Sequential",
      "execution_count": 127,
      "outputs": []
    },
    {
      "metadata": {
        "_uuid": "7b492529f3cffec331d8b1059cb3f76882e35282"
      },
      "cell_type": "markdown",
      "source": "**Model Architechture**"
    },
    {
      "metadata": {
        "_uuid": "57609c3719e4c789151df162630550887f4dbd0d"
      },
      "cell_type": "markdown",
      "source": "*RELU -> RELU -> RELU -> RELU -> SOFTMAX*\n"
    },
    {
      "metadata": {
        "_uuid": "c6ac484fc8be54d22640edb5924d65eb4d976e93"
      },
      "cell_type": "markdown",
      "source": "**HIDDEN UNITS**"
    },
    {
      "metadata": {
        "_uuid": "02e075d5c4413aa93e232864c0f7b2a99655f226"
      },
      "cell_type": "markdown",
      "source": "*512 -> 256 -> 128 -> 64->10*"
    },
    {
      "metadata": {
        "trusted": true,
        "_uuid": "5ca08a5b1bedfea56854ca2164f085b0fdc835af"
      },
      "cell_type": "code",
      "source": "classifier = Sequential()\n\nclassifier.add(Dense(input_dim=784,units=512,activation='relu'))                 \nclassifier.add(Dropout(0.5))\n\nclassifier.add(Dense(units=256, activation='relu'))\nclassifier.add(Dropout(0.4))\n\nclassifier.add(Dense(units=128,activation='relu'))\nclassifier.add(Dropout(0.2))\n\nclassifier.add(Dense(units=64,activation='relu'))\n\nclassifier.add(Dense(units=10, activation='softmax'))\n\nclassifier.compile(optimizer = 'adam', loss = 'binary_crossentropy', metrics = ['accuracy'])",
      "execution_count": 128,
      "outputs": []
    },
    {
      "metadata": {
        "_uuid": "232b8d9054c4ab1bf746815117380e425bc19905"
      },
      "cell_type": "markdown",
      "source": "**Classifier Summary**"
    },
    {
      "metadata": {
        "trusted": true,
        "_uuid": "802add97930dfc51ba5a107cd6b2b2bf40882ba3"
      },
      "cell_type": "code",
      "source": "classifier.summary()",
      "execution_count": 129,
      "outputs": [
        {
          "output_type": "stream",
          "text": "_________________________________________________________________\nLayer (type)                 Output Shape              Param #   \n=================================================================\ndense_169 (Dense)            (None, 512)               401920    \n_________________________________________________________________\ndropout_130 (Dropout)        (None, 512)               0         \n_________________________________________________________________\ndense_170 (Dense)            (None, 256)               131328    \n_________________________________________________________________\ndropout_131 (Dropout)        (None, 256)               0         \n_________________________________________________________________\ndense_171 (Dense)            (None, 128)               32896     \n_________________________________________________________________\ndropout_132 (Dropout)        (None, 128)               0         \n_________________________________________________________________\ndense_172 (Dense)            (None, 64)                8256      \n_________________________________________________________________\ndense_173 (Dense)            (None, 10)                650       \n=================================================================\nTotal params: 575,050\nTrainable params: 575,050\nNon-trainable params: 0\n_________________________________________________________________\n",
          "name": "stdout"
        }
      ]
    },
    {
      "metadata": {
        "_uuid": "4b551864bbf2f99d847c79e65266d469c42bd436"
      },
      "cell_type": "markdown",
      "source": "**Visualizing the Model**"
    },
    {
      "metadata": {
        "trusted": true,
        "_uuid": "c99b97a04fce24d7ef602de2c6ee5fed807154be"
      },
      "cell_type": "code",
      "source": "from keras.utils.vis_utils import plot_model\nplot_model(classifier,to_file='model.png',show_shapes=True,show_layer_names=True)",
      "execution_count": 130,
      "outputs": []
    },
    {
      "metadata": {
        "trusted": true,
        "_uuid": "5cade3574213053157047461bb62496f1409cd18"
      },
      "cell_type": "code",
      "source": "classifier.fit(X, y,epochs=25, batch_size=1000,validation_split=0.20)",
      "execution_count": 131,
      "outputs": [
        {
          "output_type": "stream",
          "text": "Train on 33600 samples, validate on 8400 samples\nEpoch 1/25\n33600/33600 [==============================] - 4s 118us/step - loss: 0.1866 - acc: 0.9328 - val_loss: 0.0602 - val_acc: 0.9793\nEpoch 2/25\n33600/33600 [==============================] - 1s 43us/step - loss: 0.0665 - acc: 0.9771 - val_loss: 0.0354 - val_acc: 0.9880\nEpoch 3/25\n33600/33600 [==============================] - 1s 43us/step - loss: 0.0459 - acc: 0.9846 - val_loss: 0.0292 - val_acc: 0.9903\nEpoch 4/25\n33600/33600 [==============================] - 1s 44us/step - loss: 0.0376 - acc: 0.9875 - val_loss: 0.0249 - val_acc: 0.9922\nEpoch 5/25\n33600/33600 [==============================] - 1s 44us/step - loss: 0.0321 - acc: 0.9894 - val_loss: 0.0221 - val_acc: 0.9926\nEpoch 6/25\n33600/33600 [==============================] - 1s 43us/step - loss: 0.0267 - acc: 0.9912 - val_loss: 0.0206 - val_acc: 0.9935\nEpoch 7/25\n33600/33600 [==============================] - 1s 44us/step - loss: 0.0248 - acc: 0.9918 - val_loss: 0.0187 - val_acc: 0.9938\nEpoch 8/25\n33600/33600 [==============================] - 1s 44us/step - loss: 0.0218 - acc: 0.9929 - val_loss: 0.0188 - val_acc: 0.9936\nEpoch 9/25\n33600/33600 [==============================] - 1s 43us/step - loss: 0.0202 - acc: 0.9931 - val_loss: 0.0180 - val_acc: 0.9944\nEpoch 10/25\n33600/33600 [==============================] - 1s 43us/step - loss: 0.0186 - acc: 0.9938 - val_loss: 0.0172 - val_acc: 0.9947\nEpoch 11/25\n33600/33600 [==============================] - 1s 43us/step - loss: 0.0169 - acc: 0.9943 - val_loss: 0.0178 - val_acc: 0.9948\nEpoch 12/25\n33600/33600 [==============================] - 1s 44us/step - loss: 0.0161 - acc: 0.9946 - val_loss: 0.0162 - val_acc: 0.9950\nEpoch 13/25\n33600/33600 [==============================] - 1s 43us/step - loss: 0.0143 - acc: 0.9952 - val_loss: 0.0163 - val_acc: 0.9953\nEpoch 14/25\n33600/33600 [==============================] - 1s 44us/step - loss: 0.0137 - acc: 0.9954 - val_loss: 0.0164 - val_acc: 0.9953\nEpoch 15/25\n33600/33600 [==============================] - 1s 43us/step - loss: 0.0134 - acc: 0.9955 - val_loss: 0.0159 - val_acc: 0.9954\nEpoch 16/25\n33600/33600 [==============================] - 1s 43us/step - loss: 0.0125 - acc: 0.9958 - val_loss: 0.0159 - val_acc: 0.9953\nEpoch 17/25\n33600/33600 [==============================] - 1s 43us/step - loss: 0.0120 - acc: 0.9960 - val_loss: 0.0148 - val_acc: 0.9956\nEpoch 18/25\n33600/33600 [==============================] - 1s 44us/step - loss: 0.0105 - acc: 0.9964 - val_loss: 0.0156 - val_acc: 0.9956\nEpoch 19/25\n33600/33600 [==============================] - 1s 44us/step - loss: 0.0100 - acc: 0.9966 - val_loss: 0.0159 - val_acc: 0.9957\nEpoch 20/25\n33600/33600 [==============================] - 1s 44us/step - loss: 0.0101 - acc: 0.9964 - val_loss: 0.0147 - val_acc: 0.9955\nEpoch 21/25\n33600/33600 [==============================] - 1s 44us/step - loss: 0.0094 - acc: 0.9968 - val_loss: 0.0158 - val_acc: 0.9954\nEpoch 22/25\n33600/33600 [==============================] - 1s 44us/step - loss: 0.0091 - acc: 0.9968 - val_loss: 0.0160 - val_acc: 0.9957\nEpoch 23/25\n33600/33600 [==============================] - 1s 44us/step - loss: 0.0092 - acc: 0.9968 - val_loss: 0.0154 - val_acc: 0.9954\nEpoch 24/25\n33600/33600 [==============================] - 1s 43us/step - loss: 0.0089 - acc: 0.9970 - val_loss: 0.0146 - val_acc: 0.9960\nEpoch 25/25\n33600/33600 [==============================] - 1s 44us/step - loss: 0.0081 - acc: 0.9972 - val_loss: 0.0163 - val_acc: 0.9957\n",
          "name": "stdout"
        },
        {
          "output_type": "execute_result",
          "execution_count": 131,
          "data": {
            "text/plain": "<keras.callbacks.History at 0x7f23d4254198>"
          },
          "metadata": {}
        }
      ]
    },
    {
      "metadata": {
        "_uuid": "0a90f22b5937e10f8151255c9fd68beeed6158da"
      },
      "cell_type": "markdown",
      "source": "**Model Accuracy:**\n> Training Set: 99.72%\n> Validation Set: 99.57%"
    },
    {
      "metadata": {
        "_uuid": "6a275b2f7c3d4567dedb93242ef37ffa1bf37084"
      },
      "cell_type": "markdown",
      "source": "*Making Predictions on Test Set*"
    },
    {
      "metadata": {
        "trusted": true,
        "_uuid": "e751bb5696e0a53c295ee8122538512dde05f098"
      },
      "cell_type": "code",
      "source": "y_pred = classifier.predict(np.array(test)).argmax(axis=1)",
      "execution_count": 132,
      "outputs": []
    },
    {
      "metadata": {
        "trusted": true,
        "_uuid": "d78717197f6bafba7cdae3b71c680be3e4d4690f"
      },
      "cell_type": "code",
      "source": "submission=pd.read_csv(\"../input/sample_submission.csv\")\nsubmission['Label']=y_pred\nsubmission.to_csv('MNIST.csv', index=False)",
      "execution_count": 133,
      "outputs": []
    },
    {
      "metadata": {
        "trusted": true,
        "_uuid": "b731891c656f8c939ad66fd88528c420139f2fda"
      },
      "cell_type": "code",
      "source": "submission.head()",
      "execution_count": 134,
      "outputs": [
        {
          "output_type": "execute_result",
          "execution_count": 134,
          "data": {
            "text/plain": "   ImageId  Label\n0        1      2\n1        2      0\n2        3      9\n3        4      9\n4        5      3",
            "text/html": "<div>\n<style scoped>\n    .dataframe tbody tr th:only-of-type {\n        vertical-align: middle;\n    }\n\n    .dataframe tbody tr th {\n        vertical-align: top;\n    }\n\n    .dataframe thead th {\n        text-align: right;\n    }\n</style>\n<table border=\"1\" class=\"dataframe\">\n  <thead>\n    <tr style=\"text-align: right;\">\n      <th></th>\n      <th>ImageId</th>\n      <th>Label</th>\n    </tr>\n  </thead>\n  <tbody>\n    <tr>\n      <th>0</th>\n      <td>1</td>\n      <td>2</td>\n    </tr>\n    <tr>\n      <th>1</th>\n      <td>2</td>\n      <td>0</td>\n    </tr>\n    <tr>\n      <th>2</th>\n      <td>3</td>\n      <td>9</td>\n    </tr>\n    <tr>\n      <th>3</th>\n      <td>4</td>\n      <td>9</td>\n    </tr>\n    <tr>\n      <th>4</th>\n      <td>5</td>\n      <td>3</td>\n    </tr>\n  </tbody>\n</table>\n</div>"
          },
          "metadata": {}
        }
      ]
    }
  ],
  "metadata": {
    "kernelspec": {
      "display_name": "Python 3",
      "language": "python",
      "name": "python3"
    },
    "language_info": {
      "name": "python",
      "version": "3.6.6",
      "mimetype": "text/x-python",
      "codemirror_mode": {
        "name": "ipython",
        "version": 3
      },
      "pygments_lexer": "ipython3",
      "nbconvert_exporter": "python",
      "file_extension": ".py"
    }
  },
  "nbformat": 4,
  "nbformat_minor": 1
}